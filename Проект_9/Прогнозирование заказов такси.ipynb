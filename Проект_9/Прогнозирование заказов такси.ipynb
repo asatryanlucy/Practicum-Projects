{
 "cells": [
  {
   "cell_type": "markdown",
   "metadata": {
    "toc": true
   },
   "source": [
    "<h1>Содержание<span class=\"tocSkip\"></span></h1>\n",
    "<div class=\"toc\"><ul class=\"toc-item\"><li><span><a href=\"#Подготовка\" data-toc-modified-id=\"Подготовка-1\"><span class=\"toc-item-num\">1&nbsp;&nbsp;</span>Подготовка</a></span></li><li><span><a href=\"#Вывод\" data-toc-modified-id=\"Вывод-2\"><span class=\"toc-item-num\">2&nbsp;&nbsp;</span>Вывод</a></span></li><li><span><a href=\"#Анализ\" data-toc-modified-id=\"Анализ-3\"><span class=\"toc-item-num\">3&nbsp;&nbsp;</span>Анализ</a></span></li><li><span><a href=\"#Вывод\" data-toc-modified-id=\"Вывод-4\"><span class=\"toc-item-num\">4&nbsp;&nbsp;</span>Вывод</a></span></li><li><span><a href=\"#Обучение\" data-toc-modified-id=\"Обучение-5\"><span class=\"toc-item-num\">5&nbsp;&nbsp;</span>Обучение</a></span></li><li><span><a href=\"#Вывод\" data-toc-modified-id=\"Вывод-6\"><span class=\"toc-item-num\">6&nbsp;&nbsp;</span>Вывод</a></span></li><li><span><a href=\"#Тестирование\" data-toc-modified-id=\"Тестирование-7\"><span class=\"toc-item-num\">7&nbsp;&nbsp;</span>Тестирование</a></span></li><li><span><a href=\"#Вывод\" data-toc-modified-id=\"Вывод-8\"><span class=\"toc-item-num\">8&nbsp;&nbsp;</span>Вывод</a></span></li><li><span><a href=\"#Общий-вывод\" data-toc-modified-id=\"Общий-вывод-9\"><span class=\"toc-item-num\">9&nbsp;&nbsp;</span>Общий вывод</a></span></li></ul></div>"
   ]
  },
  {
   "cell_type": "markdown",
   "metadata": {},
   "source": [
    "#  Прогнозирование заказов такси"
   ]
  },
  {
   "cell_type": "markdown",
   "metadata": {},
   "source": [
    "Компания «Чётенькое такси» собрала исторические данные о заказах такси в аэропортах. Чтобы привлекать больше водителей в период пиковой нагрузки, нужно спрогнозировать количество заказов такси на следующий час. Постройте модель для такого предсказания.\n",
    "\n",
    "Значение метрики *RMSE* на тестовой выборке должно быть не больше 48.\n",
    "\n",
    "Вам нужно:\n",
    "\n",
    "1. Загрузить данные и выполнить их ресемплирование по одному часу.\n",
    "2. Проанализировать данные.\n",
    "3. Обучить разные модели с различными гиперпараметрами. Сделать тестовую выборку размером 10% от исходных данных.\n",
    "4. Проверить данные на тестовой выборке и сделать выводы.\n",
    "\n",
    "\n",
    "Данные лежат в файле `taxi.csv`. Количество заказов находится в столбце `num_orders` (от англ. *number of orders*, «число заказов»)."
   ]
  },
  {
   "cell_type": "markdown",
   "metadata": {},
   "source": [
    "## Подготовка"
   ]
  },
  {
   "cell_type": "code",
   "execution_count": 1,
   "metadata": {},
   "outputs": [
    {
     "data": {
      "text/html": [
       "<style>.container { width:90% !important; }</style>"
      ],
      "text/plain": [
       "<IPython.core.display.HTML object>"
      ]
     },
     "metadata": {},
     "output_type": "display_data"
    }
   ],
   "source": [
    "from IPython.display import display, HTML\n",
    "display(HTML(\"<style>.container { width:90% !important; }</style>\"))"
   ]
  },
  {
   "cell_type": "code",
   "execution_count": 2,
   "metadata": {},
   "outputs": [],
   "source": [
    "#Испортипуем библиотеки\n",
    "import pandas as pd\n",
    "import numpy as np\n",
    "import matplotlib.pyplot as plt\n",
    "import seaborn as sns\n",
    "import os\n",
    "import statsmodels.api as sm\n",
    "from statsmodels.tsa.stattools import adfuller, kpss\n",
    "from statsmodels.tsa.seasonal import seasonal_decompose\n",
    "from statsmodels.graphics.tsaplots import plot_acf, plot_pacf\n",
    "from scipy import stats\n",
    "import sklearn\n",
    "from sklearn.dummy import DummyRegressor\n",
    "from sklearn import svm\n",
    "from sklearn.svm import SVC\n",
    "from sklearn.model_selection import train_test_split,cross_val_score,RandomizedSearchCV,TimeSeriesSplit\n",
    "from sklearn.pipeline import Pipeline\n",
    "from sklearn.compose import ColumnTransformer\n",
    "from sklearn.preprocessing import StandardScaler, MinMaxScaler,OneHotEncoder,OrdinalEncoder,RobustScaler\n",
    "from sklearn.metrics import mean_squared_error\n",
    "from sklearn.linear_model import LinearRegression\n",
    "from sklearn.tree import DecisionTreeRegressor\n",
    "from sklearn.ensemble import RandomForestRegressor\n",
    "from lightgbm import LGBMRegressor\n",
    "from sklearn.impute import SimpleImputer\n",
    "plt.rcParams[\"figure.figsize\"] = (8,8)\n",
    "pd.set_option('display.max_rows', None)\n",
    "TEST_SIZE = 0.1\n",
    "#import warnings\n",
    "#warnings.simplefilter(action=\"ignore\", category=FutureWarning)"
   ]
  },
  {
   "cell_type": "code",
   "execution_count": 3,
   "metadata": {},
   "outputs": [],
   "source": [
    "pth1 = '/datasets/taxi.csv'\n",
    "pth2 = 'C:/Users/Admin/Downloads/taxi.csv'\n",
    "\n",
    "if os.path.exists(pth1):\n",
    "    data = pd.read_csv(pth1,parse_dates=['datetime'],index_col='datetime')\n",
    "elif os.path.exists(pth2,parse_dates=['datetime'],index_col='datetime'):\n",
    "    data_one = pd.read_csv(pth2)\n",
    "else:\n",
    "    print('Something is wrong')"
   ]
  },
  {
   "cell_type": "code",
   "execution_count": 4,
   "metadata": {},
   "outputs": [
    {
     "data": {
      "text/html": [
       "<div>\n",
       "<style scoped>\n",
       "    .dataframe tbody tr th:only-of-type {\n",
       "        vertical-align: middle;\n",
       "    }\n",
       "\n",
       "    .dataframe tbody tr th {\n",
       "        vertical-align: top;\n",
       "    }\n",
       "\n",
       "    .dataframe thead th {\n",
       "        text-align: right;\n",
       "    }\n",
       "</style>\n",
       "<table border=\"1\" class=\"dataframe\">\n",
       "  <thead>\n",
       "    <tr style=\"text-align: right;\">\n",
       "      <th></th>\n",
       "      <th>num_orders</th>\n",
       "    </tr>\n",
       "    <tr>\n",
       "      <th>datetime</th>\n",
       "      <th></th>\n",
       "    </tr>\n",
       "  </thead>\n",
       "  <tbody>\n",
       "    <tr>\n",
       "      <th>2018-03-01 00:00:00</th>\n",
       "      <td>9</td>\n",
       "    </tr>\n",
       "    <tr>\n",
       "      <th>2018-03-01 00:10:00</th>\n",
       "      <td>14</td>\n",
       "    </tr>\n",
       "    <tr>\n",
       "      <th>2018-03-01 00:20:00</th>\n",
       "      <td>28</td>\n",
       "    </tr>\n",
       "    <tr>\n",
       "      <th>2018-03-01 00:30:00</th>\n",
       "      <td>20</td>\n",
       "    </tr>\n",
       "    <tr>\n",
       "      <th>2018-03-01 00:40:00</th>\n",
       "      <td>32</td>\n",
       "    </tr>\n",
       "    <tr>\n",
       "      <th>2018-03-01 00:50:00</th>\n",
       "      <td>21</td>\n",
       "    </tr>\n",
       "    <tr>\n",
       "      <th>2018-03-01 01:00:00</th>\n",
       "      <td>7</td>\n",
       "    </tr>\n",
       "    <tr>\n",
       "      <th>2018-03-01 01:10:00</th>\n",
       "      <td>5</td>\n",
       "    </tr>\n",
       "    <tr>\n",
       "      <th>2018-03-01 01:20:00</th>\n",
       "      <td>17</td>\n",
       "    </tr>\n",
       "    <tr>\n",
       "      <th>2018-03-01 01:30:00</th>\n",
       "      <td>12</td>\n",
       "    </tr>\n",
       "  </tbody>\n",
       "</table>\n",
       "</div>"
      ],
      "text/plain": [
       "                     num_orders\n",
       "datetime                       \n",
       "2018-03-01 00:00:00           9\n",
       "2018-03-01 00:10:00          14\n",
       "2018-03-01 00:20:00          28\n",
       "2018-03-01 00:30:00          20\n",
       "2018-03-01 00:40:00          32\n",
       "2018-03-01 00:50:00          21\n",
       "2018-03-01 01:00:00           7\n",
       "2018-03-01 01:10:00           5\n",
       "2018-03-01 01:20:00          17\n",
       "2018-03-01 01:30:00          12"
      ]
     },
     "metadata": {},
     "output_type": "display_data"
    },
    {
     "name": "stdout",
     "output_type": "stream",
     "text": [
      "\n",
      "<class 'pandas.core.frame.DataFrame'>\n",
      "DatetimeIndex: 26496 entries, 2018-03-01 00:00:00 to 2018-08-31 23:50:00\n",
      "Data columns (total 1 columns):\n",
      " #   Column      Non-Null Count  Dtype\n",
      "---  ------      --------------  -----\n",
      " 0   num_orders  26496 non-null  int64\n",
      "dtypes: int64(1)\n",
      "memory usage: 414.0 KB\n"
     ]
    },
    {
     "data": {
      "text/plain": [
       "None"
      ]
     },
     "metadata": {},
     "output_type": "display_data"
    },
    {
     "name": "stdout",
     "output_type": "stream",
     "text": [
      "\n"
     ]
    },
    {
     "data": {
      "text/html": [
       "<div>\n",
       "<style scoped>\n",
       "    .dataframe tbody tr th:only-of-type {\n",
       "        vertical-align: middle;\n",
       "    }\n",
       "\n",
       "    .dataframe tbody tr th {\n",
       "        vertical-align: top;\n",
       "    }\n",
       "\n",
       "    .dataframe thead th {\n",
       "        text-align: right;\n",
       "    }\n",
       "</style>\n",
       "<table border=\"1\" class=\"dataframe\">\n",
       "  <thead>\n",
       "    <tr style=\"text-align: right;\">\n",
       "      <th></th>\n",
       "      <th>num_orders</th>\n",
       "    </tr>\n",
       "  </thead>\n",
       "  <tbody>\n",
       "    <tr>\n",
       "      <th>count</th>\n",
       "      <td>26496.000000</td>\n",
       "    </tr>\n",
       "    <tr>\n",
       "      <th>mean</th>\n",
       "      <td>14.070463</td>\n",
       "    </tr>\n",
       "    <tr>\n",
       "      <th>std</th>\n",
       "      <td>9.211330</td>\n",
       "    </tr>\n",
       "    <tr>\n",
       "      <th>min</th>\n",
       "      <td>0.000000</td>\n",
       "    </tr>\n",
       "    <tr>\n",
       "      <th>25%</th>\n",
       "      <td>8.000000</td>\n",
       "    </tr>\n",
       "    <tr>\n",
       "      <th>50%</th>\n",
       "      <td>13.000000</td>\n",
       "    </tr>\n",
       "    <tr>\n",
       "      <th>75%</th>\n",
       "      <td>19.000000</td>\n",
       "    </tr>\n",
       "    <tr>\n",
       "      <th>max</th>\n",
       "      <td>119.000000</td>\n",
       "    </tr>\n",
       "  </tbody>\n",
       "</table>\n",
       "</div>"
      ],
      "text/plain": [
       "         num_orders\n",
       "count  26496.000000\n",
       "mean      14.070463\n",
       "std        9.211330\n",
       "min        0.000000\n",
       "25%        8.000000\n",
       "50%       13.000000\n",
       "75%       19.000000\n",
       "max      119.000000"
      ]
     },
     "metadata": {},
     "output_type": "display_data"
    }
   ],
   "source": [
    "#Изучаем загруженные файлы\n",
    "display(data.head(10))\n",
    "print()\n",
    "display(data.info(0))\n",
    "print()\n",
    "display(data.describe())"
   ]
  },
  {
   "cell_type": "code",
   "execution_count": 5,
   "metadata": {},
   "outputs": [
    {
     "data": {
      "text/html": [
       "<div>\n",
       "<style scoped>\n",
       "    .dataframe tbody tr th:only-of-type {\n",
       "        vertical-align: middle;\n",
       "    }\n",
       "\n",
       "    .dataframe tbody tr th {\n",
       "        vertical-align: top;\n",
       "    }\n",
       "\n",
       "    .dataframe thead th {\n",
       "        text-align: right;\n",
       "    }\n",
       "</style>\n",
       "<table border=\"1\" class=\"dataframe\">\n",
       "  <thead>\n",
       "    <tr style=\"text-align: right;\">\n",
       "      <th></th>\n",
       "      <th>0</th>\n",
       "    </tr>\n",
       "  </thead>\n",
       "  <tbody>\n",
       "    <tr>\n",
       "      <th>num_orders</th>\n",
       "      <td>0</td>\n",
       "    </tr>\n",
       "  </tbody>\n",
       "</table>\n",
       "</div>"
      ],
      "text/plain": [
       "            0\n",
       "num_orders  0"
      ]
     },
     "metadata": {},
     "output_type": "display_data"
    },
    {
     "name": "stdout",
     "output_type": "stream",
     "text": [
      "\n"
     ]
    }
   ],
   "source": [
    "#Проверяем пропуски и дубликаты\n",
    "display(data.isna().sum().to_frame())\n",
    "print()"
   ]
  },
  {
   "cell_type": "code",
   "execution_count": 6,
   "metadata": {},
   "outputs": [],
   "source": [
    "#Делаем ресемплирование по одному часу\n",
    "data.sort_index(inplace=True)\n",
    "data = data.resample('1H').sum()"
   ]
  },
  {
   "cell_type": "code",
   "execution_count": 7,
   "metadata": {},
   "outputs": [
    {
     "name": "stdout",
     "output_type": "stream",
     "text": [
      "<class 'pandas.core.frame.DataFrame'>\n",
      "DatetimeIndex: 4416 entries, 2018-03-01 00:00:00 to 2018-08-31 23:00:00\n",
      "Freq: H\n",
      "Data columns (total 1 columns):\n",
      " #   Column      Non-Null Count  Dtype\n",
      "---  ------      --------------  -----\n",
      " 0   num_orders  4416 non-null   int64\n",
      "dtypes: int64(1)\n",
      "memory usage: 69.0 KB\n"
     ]
    },
    {
     "data": {
      "text/plain": [
       "None"
      ]
     },
     "metadata": {},
     "output_type": "display_data"
    },
    {
     "name": "stdout",
     "output_type": "stream",
     "text": [
      "\n"
     ]
    },
    {
     "data": {
      "text/plain": [
       "num_orders    0\n",
       "dtype: int64"
      ]
     },
     "metadata": {},
     "output_type": "display_data"
    },
    {
     "name": "stdout",
     "output_type": "stream",
     "text": [
      "\n"
     ]
    },
    {
     "data": {
      "text/html": [
       "<div>\n",
       "<style scoped>\n",
       "    .dataframe tbody tr th:only-of-type {\n",
       "        vertical-align: middle;\n",
       "    }\n",
       "\n",
       "    .dataframe tbody tr th {\n",
       "        vertical-align: top;\n",
       "    }\n",
       "\n",
       "    .dataframe thead th {\n",
       "        text-align: right;\n",
       "    }\n",
       "</style>\n",
       "<table border=\"1\" class=\"dataframe\">\n",
       "  <thead>\n",
       "    <tr style=\"text-align: right;\">\n",
       "      <th></th>\n",
       "      <th>num_orders</th>\n",
       "    </tr>\n",
       "    <tr>\n",
       "      <th>datetime</th>\n",
       "      <th></th>\n",
       "    </tr>\n",
       "  </thead>\n",
       "  <tbody>\n",
       "    <tr>\n",
       "      <th>2018-03-01 00:00:00</th>\n",
       "      <td>124</td>\n",
       "    </tr>\n",
       "    <tr>\n",
       "      <th>2018-03-01 01:00:00</th>\n",
       "      <td>85</td>\n",
       "    </tr>\n",
       "    <tr>\n",
       "      <th>2018-03-01 02:00:00</th>\n",
       "      <td>71</td>\n",
       "    </tr>\n",
       "    <tr>\n",
       "      <th>2018-03-01 03:00:00</th>\n",
       "      <td>66</td>\n",
       "    </tr>\n",
       "    <tr>\n",
       "      <th>2018-03-01 04:00:00</th>\n",
       "      <td>43</td>\n",
       "    </tr>\n",
       "  </tbody>\n",
       "</table>\n",
       "</div>"
      ],
      "text/plain": [
       "                     num_orders\n",
       "datetime                       \n",
       "2018-03-01 00:00:00         124\n",
       "2018-03-01 01:00:00          85\n",
       "2018-03-01 02:00:00          71\n",
       "2018-03-01 03:00:00          66\n",
       "2018-03-01 04:00:00          43"
      ]
     },
     "metadata": {},
     "output_type": "display_data"
    },
    {
     "name": "stdout",
     "output_type": "stream",
     "text": [
      "\n"
     ]
    },
    {
     "data": {
      "text/plain": [
       "True"
      ]
     },
     "metadata": {},
     "output_type": "display_data"
    }
   ],
   "source": [
    "display(data.info())\n",
    "print()\n",
    "display(data.isna().sum())\n",
    "print()\n",
    "display(data.head(5))\n",
    "print()\n",
    "display(data.index.is_monotonic)"
   ]
  },
  {
   "cell_type": "markdown",
   "metadata": {},
   "source": [
    "## Вывод\n",
    "\n",
    "1. Загрузила данные.\n",
    "\n",
    "2. Проверила пропуск. Пропусков не было.\n",
    "\n",
    "3. Поменяла тип столбца 'datetime' int на  datetime. Столбец 'datetime' поставила как индекс датафрейма.\n",
    "\n",
    "4. Зделала ресемплирование по часам. Построила график."
   ]
  },
  {
   "cell_type": "markdown",
   "metadata": {},
   "source": [
    "## Анализ"
   ]
  },
  {
   "cell_type": "code",
   "execution_count": 8,
   "metadata": {},
   "outputs": [
    {
     "data": {
      "image/png": "[encoded data removed]",
      "text/plain": [
       "<Figure size 576x576 with 3 Axes>"
      ]
     },
     "metadata": {
      "needs_background": "light"
     },
     "output_type": "display_data"
    }
   ],
   "source": [
    "#Получаем график по тренду,сезонностью,остатк(15 дней)\n",
    "decomposed = seasonal_decompose(data)\n",
    "\n",
    "plt.figure(figsize=(8, 8)) \n",
    "plt.subplot(311)\n",
    "decomposed.trend.plot(ax=plt.gca())\n",
    "plt.ylabel('Число заказов')\n",
    "plt.title('Тренд')\n",
    "plt.subplot(312)\n",
    "decomposed.seasonal['2018-03-01':'2018-03-07'].plot(ax=plt.gca())\n",
    "plt.ylabel('Частота')\n",
    "plt.title('Сезонная состаляющая')\n",
    "plt.subplot(313)\n",
    "decomposed.resid['2018-03-01':'2018-03-07'].plot(ax=plt.gca())\n",
    "plt.ylabel('Частота')\n",
    "plt.title('Остаток')\n",
    "plt.tight_layout()"
   ]
  },
  {
   "cell_type": "code",
   "execution_count": 9,
   "metadata": {},
   "outputs": [],
   "source": [
    "#Получаем скользящую среднюю\n",
    "data['rolling_mean'] = data.rolling(10,closed='left').mean()"
   ]
  },
  {
   "cell_type": "code",
   "execution_count": 10,
   "metadata": {},
   "outputs": [
    {
     "data": {
      "image/png": "[encoded data removed]",
      "text/plain": [
       "<Figure size 576x576 with 1 Axes>"
      ]
     },
     "metadata": {
      "needs_background": "light"
     },
     "output_type": "display_data"
    }
   ],
   "source": [
    "data.plot()\n",
    "plt.title('График по загруженности такси по часам')\n",
    "plt.xlabel('Дата')\n",
    "plt.ylabel('Число заказов');"
   ]
  },
  {
   "cell_type": "markdown",
   "metadata": {},
   "source": [
    "Тут видно что скользящая средняя растёт, ряд нестационарен. Проверим на стационарность с помощmю теста Дики-Фуллера и Квятковского-Филлипса-Шмидта-Шина (“KPSS”)"
   ]
  },
  {
   "cell_type": "markdown",
   "metadata": {},
   "source": [
    "Формулирую гипотезу для теста Дики-Фуллера.\n",
    "\n",
    "1. Нулевая гипотеза: ряд имеет единичный корень.\n",
    "\n",
    "2. Альтернативная гипотеза: ряд не имеет единичного корня.\n",
    "\n",
    "Если нулевую гипотезу  не удастся отвергнуть,то этот тест может предоставить доказательство того, что ряд нестационарен."
   ]
  },
  {
   "cell_type": "code",
   "execution_count": 11,
   "metadata": {
    "scrolled": true
   },
   "outputs": [
    {
     "name": "stdout",
     "output_type": "stream",
     "text": [
      "ADF Statistic: -3.068924\n",
      "p-value: 0.028940\n",
      "Critical Values:\n",
      "\t1%: -3.432\n",
      "\t5%: -2.862\n",
      "\t10%: -2.567\n"
     ]
    }
   ],
   "source": [
    "# Проведем тест Дики-Фуллера на стационарность\n",
    "result = adfuller(data['num_orders'])\n",
    "print('ADF Statistic: %f' % result[0])\n",
    "print('p-value: %f' % result[1])\n",
    "print('Critical Values:')\n",
    "for key, value in result[4].items():\n",
    "    print('\\t%s: %.3f' % (key, value))"
   ]
  },
  {
   "cell_type": "markdown",
   "metadata": {},
   "source": [
    "По ADF тесту p-value меньше 0.05(уровня значимости).\n",
    "По тесту отвергаем нулевую гипотезу, то есть ряд стационарный."
   ]
  },
  {
   "cell_type": "markdown",
   "metadata": {},
   "source": [
    "Теперь проверим по тесту Квятковского-Филлипса-Шмидта-Шина (“KPSS”).\n",
    "\n",
    "1. Нулевая гипотеза: процесс является стационарным по тренду.\n",
    "\n",
    "2. Альтернативная гипотеза: ряд имеет единичный корень (ряд не является стационарным).\n",
    "\n",
    "Если нулевую гипотезу не удастся отвергнуть,то этот тест может предоставить доказательство того, что ряд стационарен."
   ]
  },
  {
   "cell_type": "code",
   "execution_count": 12,
   "metadata": {},
   "outputs": [],
   "source": [
    "#Проводим тест KPSS\n",
    "def kpss_test(timeseries):\n",
    "    print(\"Results of KPSS Test:\")\n",
    "    kpsstest = kpss(timeseries, regression=\"c\", nlags=\"auto\")\n",
    "    kpss_output = pd.Series(\n",
    "        kpsstest[0:3], index=[\"Test Statistic\", \"p-value\", \"Lags Used\"]\n",
    "    )\n",
    "    for key, value in kpsstest[3].items():\n",
    "        kpss_output[\"Critical Value (%s)\" % key] = value\n",
    "    print(kpss_output)"
   ]
  },
  {
   "cell_type": "code",
   "execution_count": 13,
   "metadata": {},
   "outputs": [
    {
     "name": "stdout",
     "output_type": "stream",
     "text": [
      "Results of KPSS Test:\n",
      "Test Statistic           10.913353\n",
      "p-value                   0.010000\n",
      "Lags Used                32.000000\n",
      "Critical Value (10%)      0.347000\n",
      "Critical Value (5%)       0.463000\n",
      "Critical Value (2.5%)     0.574000\n",
      "Critical Value (1%)       0.739000\n",
      "dtype: float64\n"
     ]
    },
    {
     "name": "stderr",
     "output_type": "stream",
     "text": [
      "/opt/conda/lib/python3.9/site-packages/statsmodels/tsa/stattools.py:2018: InterpolationWarning: The test statistic is outside of the range of p-values available in the\n",
      "look-up table. The actual p-value is smaller than the p-value returned.\n",
      "\n",
      "  warnings.warn(\n"
     ]
    }
   ],
   "source": [
    "kpss_test(data['num_orders'])"
   ]
  },
  {
   "cell_type": "markdown",
   "metadata": {},
   "source": [
    "По KPSS тесту p-value меньше 0.05(уровня значимости). По тесту  отвергаем нулевую гипотезу, то есть ряд нестационарный."
   ]
  },
  {
   "cell_type": "code",
   "execution_count": 14,
   "metadata": {},
   "outputs": [
    {
     "name": "stderr",
     "output_type": "stream",
     "text": [
      "/opt/conda/lib/python3.9/site-packages/statsmodels/graphics/tsaplots.py:348: FutureWarning: The default method 'yw' can produce PACF values outside of the [-1,1] interval. After 0.13, the default will change tounadjusted Yule-Walker ('ywm'). You can use this method now by setting method='ywm'.\n",
      "  warnings.warn(\n"
     ]
    },
    {
     "data": {
      "image/png": "[encoded data removed]",
      "text/plain": [
       "<Figure size 864x432 with 2 Axes>"
      ]
     },
     "metadata": {
      "needs_background": "light"
     },
     "output_type": "display_data"
    }
   ],
   "source": [
    "# Рассчитываем автокорреляцию и частичную автокорреляцию\n",
    "plt.figure(figsize=(12, 6))\n",
    "plt.subplot(211)\n",
    "plot_acf(data['num_orders'], lags=100, ax=plt.gca())\n",
    "plt.ylabel('ACF')\n",
    "plt.xlabel('lags')\n",
    "plt.title('Автокорреляция')\n",
    "\n",
    "plt.subplot(212)\n",
    "plot_pacf(data['num_orders'], lags=100, ax=plt.gca())\n",
    "plt.ylabel('PACF')\n",
    "plt.xlabel('lags')\n",
    "plt.title('Частичная автокорреляция')\n",
    "\n",
    "plt.tight_layout()\n",
    "plt.show()"
   ]
  },
  {
   "cell_type": "markdown",
   "metadata": {},
   "source": [
    "## Вывод\n",
    "\n",
    "1. Получила график скользящего среднего. По графику скользящая средняя растёт. Проверила на стационарность с помощью теста Дики-Фуллера и Квятковского-Филлипса-Шмидта-Шина (“KPSS”)\n",
    "\n",
    "2. Гипотезу для теста Дики-Фуллера.\n",
    "\n",
    "   Нулевая гипотеза: ряд имеет единичный корень.\n",
    "\n",
    "   Альтернативная гипотеза: ряд не имеет единичного корня.\n",
    "\n",
    "   Если нулевую гипотезу  не удастся отвергнуть,то этот тест может предоставить доказательство того, что ряд нестационарен.\n",
    "   \n",
    "   По ADF тесту p-value меньше 0.05(уровня значимости). По тесту отвергаем нулевую гипотезу, то есть ряд стационарный.\n",
    "\n",
    "3. По тесту Квятковского-Филлипса-Шмидта-Шина (“KPSS”).\n",
    "\n",
    "   Нулевая гипотеза: процесс является стационарным по тренду.\n",
    "\n",
    "   Альтернативная гипотеза: ряд имеет единичный корень (ряд не является стационарным).\n",
    "\n",
    "   Если нулевую гипотезу не удастся отвергнуть,то этот тест может предоставить доказательство того, что ряд стационарен.\n",
    "   \n",
    "4. По итогу временоной ряд нестационарен.    "
   ]
  },
  {
   "cell_type": "markdown",
   "metadata": {},
   "source": [
    "1. Получила график по тренду,сезонностью,остатк(15 дней). По тренду видно, что есть рост по заказам. \n",
    "   По сезонности видим что больше всего заказы бывают в ночное время.\n",
    "   \n",
    "2. По логике ночью общественный транспорт не работате. Вот по этой причине в ночное время число заказов повышаются.   "
   ]
  },
  {
   "cell_type": "markdown",
   "metadata": {},
   "source": [
    "4. По ACF графику есть закономерность каждое 24 часа. То есь есть корреляция между первым и 24-ым лагом.По PACF так же.\n",
    "\n",
    "\n",
    "5. Исходя из анализа, для обучения получу признаки день,часы и день недели."
   ]
  },
  {
   "cell_type": "markdown",
   "metadata": {},
   "source": [
    "## Обучение"
   ]
  },
  {
   "cell_type": "code",
   "execution_count": 15,
   "metadata": {},
   "outputs": [],
   "source": [
    "def make_features(data, max_lag, rolling_mean_size):\n",
    "    data_make_features = data.copy()\n",
    "    data_make_features['day'] = data_make_features.index.day\n",
    "    data_make_features['hour'] = data_make_features.index.hour\n",
    "    data_make_features['dayofweek'] = data_make_features.index.dayofweek\n",
    "    \n",
    "    for lag in range(1, max_lag + 1):\n",
    "        data_make_features['lag_{}'.format(lag)] = data_make_features['num_orders'].shift(lag)\n",
    "    \n",
    "    data_make_features['rolling_mean'] = data_make_features['num_orders'].shift().rolling(rolling_mean_size).mean()    \n",
    "    return data_make_features.dropna()\n",
    "    \n",
    "data_new =  make_features(data,24,24)\n",
    "\n"
   ]
  },
  {
   "cell_type": "code",
   "execution_count": 16,
   "metadata": {},
   "outputs": [
    {
     "data": {
      "text/html": [
       "<div>\n",
       "<style scoped>\n",
       "    .dataframe tbody tr th:only-of-type {\n",
       "        vertical-align: middle;\n",
       "    }\n",
       "\n",
       "    .dataframe tbody tr th {\n",
       "        vertical-align: top;\n",
       "    }\n",
       "\n",
       "    .dataframe thead th {\n",
       "        text-align: right;\n",
       "    }\n",
       "</style>\n",
       "<table border=\"1\" class=\"dataframe\">\n",
       "  <thead>\n",
       "    <tr style=\"text-align: right;\">\n",
       "      <th></th>\n",
       "      <th>num_orders</th>\n",
       "      <th>rolling_mean</th>\n",
       "      <th>day</th>\n",
       "      <th>hour</th>\n",
       "      <th>dayofweek</th>\n",
       "      <th>lag_1</th>\n",
       "      <th>lag_2</th>\n",
       "      <th>lag_3</th>\n",
       "      <th>lag_4</th>\n",
       "      <th>lag_5</th>\n",
       "      <th>...</th>\n",
       "      <th>lag_15</th>\n",
       "      <th>lag_16</th>\n",
       "      <th>lag_17</th>\n",
       "      <th>lag_18</th>\n",
       "      <th>lag_19</th>\n",
       "      <th>lag_20</th>\n",
       "      <th>lag_21</th>\n",
       "      <th>lag_22</th>\n",
       "      <th>lag_23</th>\n",
       "      <th>lag_24</th>\n",
       "    </tr>\n",
       "    <tr>\n",
       "      <th>datetime</th>\n",
       "      <th></th>\n",
       "      <th></th>\n",
       "      <th></th>\n",
       "      <th></th>\n",
       "      <th></th>\n",
       "      <th></th>\n",
       "      <th></th>\n",
       "      <th></th>\n",
       "      <th></th>\n",
       "      <th></th>\n",
       "      <th></th>\n",
       "      <th></th>\n",
       "      <th></th>\n",
       "      <th></th>\n",
       "      <th></th>\n",
       "      <th></th>\n",
       "      <th></th>\n",
       "      <th></th>\n",
       "      <th></th>\n",
       "      <th></th>\n",
       "      <th></th>\n",
       "    </tr>\n",
       "  </thead>\n",
       "  <tbody>\n",
       "    <tr>\n",
       "      <th>2018-03-02 00:00:00</th>\n",
       "      <td>90</td>\n",
       "      <td>56.833333</td>\n",
       "      <td>2</td>\n",
       "      <td>0</td>\n",
       "      <td>4</td>\n",
       "      <td>58.0</td>\n",
       "      <td>113.0</td>\n",
       "      <td>66.0</td>\n",
       "      <td>61.0</td>\n",
       "      <td>45.0</td>\n",
       "      <td>...</td>\n",
       "      <td>69.0</td>\n",
       "      <td>34.0</td>\n",
       "      <td>15.0</td>\n",
       "      <td>12.0</td>\n",
       "      <td>6.0</td>\n",
       "      <td>43.0</td>\n",
       "      <td>66.0</td>\n",
       "      <td>71.0</td>\n",
       "      <td>85.0</td>\n",
       "      <td>124.0</td>\n",
       "    </tr>\n",
       "    <tr>\n",
       "      <th>2018-03-02 01:00:00</th>\n",
       "      <td>120</td>\n",
       "      <td>55.416667</td>\n",
       "      <td>2</td>\n",
       "      <td>1</td>\n",
       "      <td>4</td>\n",
       "      <td>90.0</td>\n",
       "      <td>58.0</td>\n",
       "      <td>113.0</td>\n",
       "      <td>66.0</td>\n",
       "      <td>61.0</td>\n",
       "      <td>...</td>\n",
       "      <td>64.0</td>\n",
       "      <td>69.0</td>\n",
       "      <td>34.0</td>\n",
       "      <td>15.0</td>\n",
       "      <td>12.0</td>\n",
       "      <td>6.0</td>\n",
       "      <td>43.0</td>\n",
       "      <td>66.0</td>\n",
       "      <td>71.0</td>\n",
       "      <td>85.0</td>\n",
       "    </tr>\n",
       "    <tr>\n",
       "      <th>2018-03-02 02:00:00</th>\n",
       "      <td>75</td>\n",
       "      <td>56.875000</td>\n",
       "      <td>2</td>\n",
       "      <td>2</td>\n",
       "      <td>4</td>\n",
       "      <td>120.0</td>\n",
       "      <td>90.0</td>\n",
       "      <td>58.0</td>\n",
       "      <td>113.0</td>\n",
       "      <td>66.0</td>\n",
       "      <td>...</td>\n",
       "      <td>96.0</td>\n",
       "      <td>64.0</td>\n",
       "      <td>69.0</td>\n",
       "      <td>34.0</td>\n",
       "      <td>15.0</td>\n",
       "      <td>12.0</td>\n",
       "      <td>6.0</td>\n",
       "      <td>43.0</td>\n",
       "      <td>66.0</td>\n",
       "      <td>71.0</td>\n",
       "    </tr>\n",
       "    <tr>\n",
       "      <th>2018-03-02 03:00:00</th>\n",
       "      <td>64</td>\n",
       "      <td>57.041667</td>\n",
       "      <td>2</td>\n",
       "      <td>3</td>\n",
       "      <td>4</td>\n",
       "      <td>75.0</td>\n",
       "      <td>120.0</td>\n",
       "      <td>90.0</td>\n",
       "      <td>58.0</td>\n",
       "      <td>113.0</td>\n",
       "      <td>...</td>\n",
       "      <td>30.0</td>\n",
       "      <td>96.0</td>\n",
       "      <td>64.0</td>\n",
       "      <td>69.0</td>\n",
       "      <td>34.0</td>\n",
       "      <td>15.0</td>\n",
       "      <td>12.0</td>\n",
       "      <td>6.0</td>\n",
       "      <td>43.0</td>\n",
       "      <td>66.0</td>\n",
       "    </tr>\n",
       "    <tr>\n",
       "      <th>2018-03-02 04:00:00</th>\n",
       "      <td>20</td>\n",
       "      <td>56.958333</td>\n",
       "      <td>2</td>\n",
       "      <td>4</td>\n",
       "      <td>4</td>\n",
       "      <td>64.0</td>\n",
       "      <td>75.0</td>\n",
       "      <td>120.0</td>\n",
       "      <td>90.0</td>\n",
       "      <td>58.0</td>\n",
       "      <td>...</td>\n",
       "      <td>32.0</td>\n",
       "      <td>30.0</td>\n",
       "      <td>96.0</td>\n",
       "      <td>64.0</td>\n",
       "      <td>69.0</td>\n",
       "      <td>34.0</td>\n",
       "      <td>15.0</td>\n",
       "      <td>12.0</td>\n",
       "      <td>6.0</td>\n",
       "      <td>43.0</td>\n",
       "    </tr>\n",
       "    <tr>\n",
       "      <th>2018-03-02 05:00:00</th>\n",
       "      <td>11</td>\n",
       "      <td>56.000000</td>\n",
       "      <td>2</td>\n",
       "      <td>5</td>\n",
       "      <td>4</td>\n",
       "      <td>20.0</td>\n",
       "      <td>64.0</td>\n",
       "      <td>75.0</td>\n",
       "      <td>120.0</td>\n",
       "      <td>90.0</td>\n",
       "      <td>...</td>\n",
       "      <td>48.0</td>\n",
       "      <td>32.0</td>\n",
       "      <td>30.0</td>\n",
       "      <td>96.0</td>\n",
       "      <td>64.0</td>\n",
       "      <td>69.0</td>\n",
       "      <td>34.0</td>\n",
       "      <td>15.0</td>\n",
       "      <td>12.0</td>\n",
       "      <td>6.0</td>\n",
       "    </tr>\n",
       "    <tr>\n",
       "      <th>2018-03-02 06:00:00</th>\n",
       "      <td>11</td>\n",
       "      <td>56.208333</td>\n",
       "      <td>2</td>\n",
       "      <td>6</td>\n",
       "      <td>4</td>\n",
       "      <td>11.0</td>\n",
       "      <td>20.0</td>\n",
       "      <td>64.0</td>\n",
       "      <td>75.0</td>\n",
       "      <td>120.0</td>\n",
       "      <td>...</td>\n",
       "      <td>66.0</td>\n",
       "      <td>48.0</td>\n",
       "      <td>32.0</td>\n",
       "      <td>30.0</td>\n",
       "      <td>96.0</td>\n",
       "      <td>64.0</td>\n",
       "      <td>69.0</td>\n",
       "      <td>34.0</td>\n",
       "      <td>15.0</td>\n",
       "      <td>12.0</td>\n",
       "    </tr>\n",
       "    <tr>\n",
       "      <th>2018-03-02 07:00:00</th>\n",
       "      <td>7</td>\n",
       "      <td>56.166667</td>\n",
       "      <td>2</td>\n",
       "      <td>7</td>\n",
       "      <td>4</td>\n",
       "      <td>11.0</td>\n",
       "      <td>11.0</td>\n",
       "      <td>20.0</td>\n",
       "      <td>64.0</td>\n",
       "      <td>75.0</td>\n",
       "      <td>...</td>\n",
       "      <td>43.0</td>\n",
       "      <td>66.0</td>\n",
       "      <td>48.0</td>\n",
       "      <td>32.0</td>\n",
       "      <td>30.0</td>\n",
       "      <td>96.0</td>\n",
       "      <td>64.0</td>\n",
       "      <td>69.0</td>\n",
       "      <td>34.0</td>\n",
       "      <td>15.0</td>\n",
       "    </tr>\n",
       "    <tr>\n",
       "      <th>2018-03-02 08:00:00</th>\n",
       "      <td>46</td>\n",
       "      <td>55.833333</td>\n",
       "      <td>2</td>\n",
       "      <td>8</td>\n",
       "      <td>4</td>\n",
       "      <td>7.0</td>\n",
       "      <td>11.0</td>\n",
       "      <td>11.0</td>\n",
       "      <td>20.0</td>\n",
       "      <td>64.0</td>\n",
       "      <td>...</td>\n",
       "      <td>44.0</td>\n",
       "      <td>43.0</td>\n",
       "      <td>66.0</td>\n",
       "      <td>48.0</td>\n",
       "      <td>32.0</td>\n",
       "      <td>30.0</td>\n",
       "      <td>96.0</td>\n",
       "      <td>64.0</td>\n",
       "      <td>69.0</td>\n",
       "      <td>34.0</td>\n",
       "    </tr>\n",
       "    <tr>\n",
       "      <th>2018-03-02 09:00:00</th>\n",
       "      <td>45</td>\n",
       "      <td>56.333333</td>\n",
       "      <td>2</td>\n",
       "      <td>9</td>\n",
       "      <td>4</td>\n",
       "      <td>46.0</td>\n",
       "      <td>7.0</td>\n",
       "      <td>11.0</td>\n",
       "      <td>11.0</td>\n",
       "      <td>20.0</td>\n",
       "      <td>...</td>\n",
       "      <td>73.0</td>\n",
       "      <td>44.0</td>\n",
       "      <td>43.0</td>\n",
       "      <td>66.0</td>\n",
       "      <td>48.0</td>\n",
       "      <td>32.0</td>\n",
       "      <td>30.0</td>\n",
       "      <td>96.0</td>\n",
       "      <td>64.0</td>\n",
       "      <td>69.0</td>\n",
       "    </tr>\n",
       "  </tbody>\n",
       "</table>\n",
       "<p>10 rows × 29 columns</p>\n",
       "</div>"
      ],
      "text/plain": [
       "                     num_orders  rolling_mean  day  hour  dayofweek  lag_1  \\\n",
       "datetime                                                                     \n",
       "2018-03-02 00:00:00          90     56.833333    2     0          4   58.0   \n",
       "2018-03-02 01:00:00         120     55.416667    2     1          4   90.0   \n",
       "2018-03-02 02:00:00          75     56.875000    2     2          4  120.0   \n",
       "2018-03-02 03:00:00          64     57.041667    2     3          4   75.0   \n",
       "2018-03-02 04:00:00          20     56.958333    2     4          4   64.0   \n",
       "2018-03-02 05:00:00          11     56.000000    2     5          4   20.0   \n",
       "2018-03-02 06:00:00          11     56.208333    2     6          4   11.0   \n",
       "2018-03-02 07:00:00           7     56.166667    2     7          4   11.0   \n",
       "2018-03-02 08:00:00          46     55.833333    2     8          4    7.0   \n",
       "2018-03-02 09:00:00          45     56.333333    2     9          4   46.0   \n",
       "\n",
       "                     lag_2  lag_3  lag_4  lag_5  ...  lag_15  lag_16  lag_17  \\\n",
       "datetime                                         ...                           \n",
       "2018-03-02 00:00:00  113.0   66.0   61.0   45.0  ...    69.0    34.0    15.0   \n",
       "2018-03-02 01:00:00   58.0  113.0   66.0   61.0  ...    64.0    69.0    34.0   \n",
       "2018-03-02 02:00:00   90.0   58.0  113.0   66.0  ...    96.0    64.0    69.0   \n",
       "2018-03-02 03:00:00  120.0   90.0   58.0  113.0  ...    30.0    96.0    64.0   \n",
       "2018-03-02 04:00:00   75.0  120.0   90.0   58.0  ...    32.0    30.0    96.0   \n",
       "2018-03-02 05:00:00   64.0   75.0  120.0   90.0  ...    48.0    32.0    30.0   \n",
       "2018-03-02 06:00:00   20.0   64.0   75.0  120.0  ...    66.0    48.0    32.0   \n",
       "2018-03-02 07:00:00   11.0   20.0   64.0   75.0  ...    43.0    66.0    48.0   \n",
       "2018-03-02 08:00:00   11.0   11.0   20.0   64.0  ...    44.0    43.0    66.0   \n",
       "2018-03-02 09:00:00    7.0   11.0   11.0   20.0  ...    73.0    44.0    43.0   \n",
       "\n",
       "                     lag_18  lag_19  lag_20  lag_21  lag_22  lag_23  lag_24  \n",
       "datetime                                                                     \n",
       "2018-03-02 00:00:00    12.0     6.0    43.0    66.0    71.0    85.0   124.0  \n",
       "2018-03-02 01:00:00    15.0    12.0     6.0    43.0    66.0    71.0    85.0  \n",
       "2018-03-02 02:00:00    34.0    15.0    12.0     6.0    43.0    66.0    71.0  \n",
       "2018-03-02 03:00:00    69.0    34.0    15.0    12.0     6.0    43.0    66.0  \n",
       "2018-03-02 04:00:00    64.0    69.0    34.0    15.0    12.0     6.0    43.0  \n",
       "2018-03-02 05:00:00    96.0    64.0    69.0    34.0    15.0    12.0     6.0  \n",
       "2018-03-02 06:00:00    30.0    96.0    64.0    69.0    34.0    15.0    12.0  \n",
       "2018-03-02 07:00:00    32.0    30.0    96.0    64.0    69.0    34.0    15.0  \n",
       "2018-03-02 08:00:00    48.0    32.0    30.0    96.0    64.0    69.0    34.0  \n",
       "2018-03-02 09:00:00    66.0    48.0    32.0    30.0    96.0    64.0    69.0  \n",
       "\n",
       "[10 rows x 29 columns]"
      ]
     },
     "execution_count": 16,
     "metadata": {},
     "output_type": "execute_result"
    }
   ],
   "source": [
    "data_new.head(10)"
   ]
  },
  {
   "cell_type": "code",
   "execution_count": 17,
   "metadata": {},
   "outputs": [
    {
     "name": "stdout",
     "output_type": "stream",
     "text": [
      "(3952, 28) (3952,) (440, 28) (440,)\n"
     ]
    }
   ],
   "source": [
    "#Разбиваем данные на трен. и тест. выборки\n",
    "train,test = train_test_split(data_new,test_size=TEST_SIZE,shuffle=False)\n",
    "train = train.dropna()\n",
    "\n",
    "\n",
    "train_features = train.drop(['num_orders'], axis=1)\n",
    "train_target = train['num_orders']\n",
    "test_features = test.drop(['num_orders'],axis=1)\n",
    "test_target = test['num_orders']\n",
    "\n",
    "print(train_features.shape,train_target.shape,test_features.shape,test_target.shape)"
   ]
  },
  {
   "cell_type": "code",
   "execution_count": 18,
   "metadata": {},
   "outputs": [
    {
     "name": "stdout",
     "output_type": "stream",
     "text": [
      "CPU times: user 64 µs, sys: 34 µs, total: 98 µs\n",
      "Wall time: 102 µs\n"
     ]
    },
    {
     "data": {
      "text/plain": [
       "Pipeline(steps=[('models', LinearRegression())])"
      ]
     },
     "execution_count": 18,
     "metadata": {},
     "output_type": "execute_result"
    }
   ],
   "source": [
    "%%time\n",
    "# создаём итоговый пайплайн: подготовка данных и модель\n",
    "pipe_final = Pipeline([('models', LinearRegression())])\n",
    "\n",
    "pipe_final"
   ]
  },
  {
   "cell_type": "code",
   "execution_count": 19,
   "metadata": {},
   "outputs": [
    {
     "name": "stdout",
     "output_type": "stream",
     "text": [
      "CPU times: user 57 µs, sys: 30 µs, total: 87 µs\n",
      "Wall time: 90.8 µs\n"
     ]
    },
    {
     "data": {
      "text/plain": [
       "[{'models': [LinearRegression()]},\n",
       " {'models': [DecisionTreeRegressor(random_state=42)],\n",
       "  'models__max_depth': [6, 7, 8, 9],\n",
       "  'models__max_features': [2, 3, 4, 5, 6, 7]},\n",
       " {'models': [LGBMRegressor()],\n",
       "  'models__max_depth': [5],\n",
       "  'models__n_estimators': [100],\n",
       "  'models__learning_rate': [1]},\n",
       " {'models': [RandomForestRegressor(random_state=42)],\n",
       "  'models__n_estimators': [50],\n",
       "  'models__max_features': ['sqrt', 'log2'],\n",
       "  'models__max_leaf_nodes': [10, 11, 12, 13, 14, 15, 16, 17],\n",
       "  'models__max_depth': (None, 12)}]"
      ]
     },
     "execution_count": 19,
     "metadata": {},
     "output_type": "execute_result"
    }
   ],
   "source": [
    "%%time\n",
    "# словарь для моделей\n",
    "param_grid = [\n",
    "             \n",
    "              {'models': [LinearRegression()]\n",
    "               },\n",
    "  \n",
    "             {'models': [DecisionTreeRegressor(random_state=42)]\n",
    "               ,'models__max_depth': list(range(6,10))\n",
    "               ,'models__max_features': list(range(2,8))\n",
    "               },\n",
    "    \n",
    "             {'models' : [LGBMRegressor()],\n",
    "              'models__max_depth': list(range(5, 8, 10)),\n",
    "              'models__n_estimators': list(range(100,120,140)),\n",
    "              'models__learning_rate': list(range(1,5,10)),\n",
    "              },\n",
    "            \n",
    "            {'models': [RandomForestRegressor(random_state=42)],\n",
    "               'models__n_estimators': list(range(50,80,100)),\n",
    "               'models__max_features': ['sqrt', 'log2'],\n",
    "               'models__max_leaf_nodes': list(range(10,18)),\n",
    "               'models__max_depth': (None, *range(12,14,16)),\n",
    "               }\n",
    "            ]\n",
    "\n",
    "param_grid"
   ]
  },
  {
   "cell_type": "code",
   "execution_count": 20,
   "metadata": {},
   "outputs": [
    {
     "name": "stdout",
     "output_type": "stream",
     "text": [
      "CPU times: user 5.2 ms, sys: 6.62 ms, total: 11.8 ms\n",
      "Wall time: 5.44 ms\n"
     ]
    },
    {
     "data": {
      "text/plain": [
       "Pipeline(steps=[('models', LinearRegression())])"
      ]
     },
     "execution_count": 20,
     "metadata": {},
     "output_type": "execute_result"
    }
   ],
   "source": [
    "%%time\n",
    "#Обучаем тренировочные выборки\n",
    "pipe_final.fit(train_features, train_target)"
   ]
  },
  {
   "cell_type": "code",
   "execution_count": 21,
   "metadata": {},
   "outputs": [
    {
     "name": "stdout",
     "output_type": "stream",
     "text": [
      "CPU times: user 190 µs, sys: 101 µs, total: 291 µs\n",
      "Wall time: 52.5 µs\n"
     ]
    }
   ],
   "source": [
    "%%time\n",
    "#Испльзуем RandomizedSearchCV для поиска лучших параметров\n",
    "randomized_search = RandomizedSearchCV(pipe_final, param_distributions=param_grid, cv=TimeSeriesSplit(n_splits=5),\n",
    "                                       scoring='neg_root_mean_squared_error',random_state=42\n",
    "                                       ,n_jobs=-1, error_score='raise')"
   ]
  },
  {
   "cell_type": "code",
   "execution_count": 22,
   "metadata": {},
   "outputs": [
    {
     "data": {
      "text/plain": [
       "RandomizedSearchCV(cv=TimeSeriesSplit(gap=0, max_train_size=None, n_splits=5, test_size=None),\n",
       "                   error_score='raise',\n",
       "                   estimator=Pipeline(steps=[('models', LinearRegression())]),\n",
       "                   n_jobs=-1,\n",
       "                   param_distributions=[{'models': [LinearRegression()]},\n",
       "                                        {'models': [DecisionTreeRegressor(random_state=42)],\n",
       "                                         'models__max_depth': [6, 7, 8, 9],\n",
       "                                         'models__max_features': [2, 3, 4, 5, 6,\n",
       "                                                                  7]},\n",
       "                                        {'models': [LGBMRegressor()],\n",
       "                                         'models__learning_rate': [1],\n",
       "                                         'models__max_depth': [5],\n",
       "                                         'models__n_estimators': [100]},\n",
       "                                        {'models': [RandomForestRegressor(random_state=42)],\n",
       "                                         'models__max_depth': (None, 12),\n",
       "                                         'models__max_features': ['sqrt',\n",
       "                                                                  'log2'],\n",
       "                                         'models__max_leaf_nodes': [10, 11, 12,\n",
       "                                                                    13, 14, 15,\n",
       "                                                                    16, 17],\n",
       "                                         'models__n_estimators': [50]}],\n",
       "                   random_state=42, scoring='neg_root_mean_squared_error')"
      ]
     },
     "execution_count": 22,
     "metadata": {},
     "output_type": "execute_result"
    }
   ],
   "source": [
    "randomized_search"
   ]
  },
  {
   "cell_type": "code",
   "execution_count": 23,
   "metadata": {
    "scrolled": true
   },
   "outputs": [
    {
     "name": "stdout",
     "output_type": "stream",
     "text": [
      "Лучшая модель и её параметры:\n",
      "\n",
      " Pipeline(steps=[('models', LinearRegression())])\n",
      "Метрика лучшей модели на тренировочной выборке:, 27.2\n",
      "CPU times: user 6.96 s, sys: 594 ms, total: 7.56 s\n",
      "Wall time: 7.56 s\n"
     ]
    }
   ],
   "source": [
    "%%time\n",
    "#Обучаем модель по полученным данным\n",
    "\n",
    "\n",
    "randomized_search.fit(train_features, train_target)\n",
    "\n",
    "print('Лучшая модель и её параметры:\\n\\n', randomized_search.best_estimator_)\n",
    "print (f'Метрика лучшей модели на тренировочной выборке:, {round(-(randomized_search.best_score_),1)}')"
   ]
  },
  {
   "cell_type": "markdown",
   "metadata": {},
   "source": [
    "## Вывод \n",
    "\n",
    "1. С помощью функции make_features создала признаки для обучения.\n",
    "\n",
    "2. Разделиле датасет на трейн. и тест ваборки.\n",
    "\n",
    "3. Создала пайплайн с разными моделями.\n",
    "\n",
    "4. Использовала RandomizedSearchCV(кросс валидация) получила лучшую модель и RMSE для этой модели на трен. данных. \n",
    "   \n",
    "   RandomForestRegressor(max_features='log2', max_leaf_nodes=16))])\n",
    "   \n",
    "   Метрика лучшей модели на тренировочной выборке:, 27.3\n",
    "   \n",
    "   Время работы 9.36сек."
   ]
  },
  {
   "cell_type": "markdown",
   "metadata": {},
   "source": [
    "## Тестирование"
   ]
  },
  {
   "cell_type": "code",
   "execution_count": 24,
   "metadata": {},
   "outputs": [
    {
     "name": "stdout",
     "output_type": "stream",
     "text": [
      "CPU times: user 163 µs, sys: 39 µs, total: 202 µs\n",
      "Wall time: 33.4 µs\n"
     ]
    },
    {
     "data": {
      "text/plain": [
       "LinearRegression()"
      ]
     },
     "execution_count": 24,
     "metadata": {},
     "output_type": "execute_result"
    }
   ],
   "source": [
    "%%time\n",
    "# В best_model будет храниться наш пайплайн\n",
    "best_model = randomized_search.best_estimator_\n",
    "rf_model = best_model.named_steps['models']\n",
    "rf_model"
   ]
  },
  {
   "cell_type": "code",
   "execution_count": 25,
   "metadata": {},
   "outputs": [
    {
     "name": "stdout",
     "output_type": "stream",
     "text": [
      "CPU times: user 2.87 ms, sys: 707 µs, total: 3.58 ms\n",
      "Wall time: 1.95 ms\n"
     ]
    }
   ],
   "source": [
    "%%time\n",
    "#Предсказываем на тестовх данных\n",
    "prediction = rf_model.predict(test_features)"
   ]
  },
  {
   "cell_type": "code",
   "execution_count": 26,
   "metadata": {},
   "outputs": [
    {
     "name": "stdout",
     "output_type": "stream",
     "text": [
      "CPU times: user 0 ns, sys: 7.02 ms, total: 7.02 ms\n",
      "Wall time: 997 µs\n"
     ]
    },
    {
     "data": {
      "text/plain": [
       "45.2"
      ]
     },
     "execution_count": 26,
     "metadata": {},
     "output_type": "execute_result"
    }
   ],
   "source": [
    "%%time\n",
    "#Получаем оценку метрик\n",
    "rmse = mean_squared_error(test_target, prediction) ** 0.5\n",
    "round(rmse,1)"
   ]
  },
  {
   "cell_type": "markdown",
   "metadata": {},
   "source": [
    "## Вывод\n",
    "\n",
    "1. Сохранила лучшую модель в переменной <a id='the_destination'>rf_model</a>\n",
    "\n",
    "2. Сделала предсказания на тестовых данных <a id='the_destination'>rmse = 45.8</a>, время работы 771мс"
   ]
  },
  {
   "cell_type": "code",
   "execution_count": 27,
   "metadata": {},
   "outputs": [
    {
     "data": {
      "text/plain": [
       "45.2"
      ]
     },
     "execution_count": 27,
     "metadata": {},
     "output_type": "execute_result"
    }
   ],
   "source": [
    "#Проверяем качество прогноза\n",
    "pred_previous = test['num_orders'].shift()\n",
    "pred_previous.iloc[0] = test_target.iloc[-1]\n",
    "rmse_prev = mean_squared_error(test_target, pred_previous) ** 0.5\n",
    "round(rmse,1)\n"
   ]
  },
  {
   "cell_type": "markdown",
   "metadata": {},
   "source": [
    "Получили такой же результат что и на тестовых данных."
   ]
  },
  {
   "cell_type": "markdown",
   "metadata": {},
   "source": [
    "## Общий вывод\n",
    "\n",
    "1. Загрузила данные.\n",
    "\n",
    "2. Проверила пропуск. Пропусков не было.\n",
    "\n",
    "3. Поменяла тип столбца 'datetime' int на  datetime. Столбец 'datetime' поставила как индекс датафрейма.\n",
    "\n",
    "4. Зделала ресемплирование по часам. Построила график.\n",
    "\n",
    "5. Получила график скользящего среднего. По графику скользящая средняя растёт. Проверила на стационарность с помощью теста Дики-Фуллера и Квятковского-Филлипса-Шмидта-Шина    (“KPSS”)\n",
    "\n",
    "   1. Гипотезу для теста Дики-Фуллера.\n",
    "\n",
    "      Нулевая гипотеза: ряд имеет единичный корень.\n",
    "\n",
    "      Альтернативная гипотеза: ряд не имеет единичного корня.\n",
    "\n",
    "      Если нулевую гипотезу  не удастся отвергнуть,то этот тест может предоставить доказательство того, что ряд нестационарен.\n",
    "   \n",
    "      По ADF тесту p-value меньше 0.05(уровня значимости). По тесту отвергаем нулевую гипотезу, то есть ряд стационарный.\n",
    "\n",
    "   2. По тесту Квятковского-Филлипса-Шмидта-Шина (“KPSS”).\n",
    "\n",
    "      Нулевая гипотеза: процесс является стационарным по тренду.\n",
    "\n",
    "      Альтернативная гипотеза: ряд имеет единичный корень (ряд не является стационарным).\n",
    "\n",
    "      Если нулевую гипотезу не удастся отвергнуть,то этот тест может предоставить доказательство того, что ряд стационарен.\n",
    "   \n",
    "   3. По итогу временоной ряд нестационарен.    \n",
    "7. Получила график по тренду,сезонностью,остатк(15 дней). По тренду видно, что есть рост по заказам. По сезонности видим что больше всего заказы бывают в начное время.\n",
    "\n",
    "8. По ACF графику есть закономерность каждое 24 часа. То есь есть корреляция между первым и 24-ым лагом.По PACF так же.\n",
    "\n",
    "9. Исходя из анализа, для обучения получу признаки месяц,день,часы и день недели.\n",
    "\n",
    "10. С помощью функции make_features создала признаки для обучения.\n",
    "\n",
    "11. Разделиле датасет на трейн. и тест ваборки.\n",
    "\n",
    "12. Создала пайплайн с разными моделями.\n",
    "\n",
    "13. Использовала RandomizedSearchCV(кросс валидация) получила лучшую модель и RMSE для этой модели на трен. данных.\n",
    "\n",
    "    RandomForestRegressor(max_features='log2', max_leaf_nodes=16))])\n",
    "\n",
    "    Метрика лучшей модели на тренировочной выборке:, 27.3\n",
    "\n",
    "    Время работы 9.36сек.\n",
    "\n",
    "14. Сохранила лучшую модель в переменной rf_model\n",
    "\n",
    "15. Сделала предсказания на тестовых данных rmse = 45.8, время работы 771мс"
   ]
  }
 ],
 "metadata": {
  "ExecuteTimeLog": [
   {
    "duration": 63,
    "start_time": "2024-02-18T08:47:31.920Z"
   },
   {
    "duration": 1841,
    "start_time": "2024-02-18T08:52:04.124Z"
   },
   {
    "duration": 111,
    "start_time": "2024-02-18T08:55:33.917Z"
   },
   {
    "duration": 138,
    "start_time": "2024-02-18T08:56:19.021Z"
   },
   {
    "duration": 36,
    "start_time": "2024-02-18T08:56:43.254Z"
   },
   {
    "duration": 50,
    "start_time": "2024-02-18T08:58:42.380Z"
   },
   {
    "duration": 26,
    "start_time": "2024-02-18T08:58:45.153Z"
   },
   {
    "duration": 4,
    "start_time": "2024-02-18T09:00:02.357Z"
   },
   {
    "duration": 55,
    "start_time": "2024-02-18T09:00:39.326Z"
   },
   {
    "duration": 1718,
    "start_time": "2024-02-18T09:00:39.383Z"
   },
   {
    "duration": 51,
    "start_time": "2024-02-18T09:00:41.103Z"
   },
   {
    "duration": 29,
    "start_time": "2024-02-18T09:00:41.156Z"
   },
   {
    "duration": 13,
    "start_time": "2024-02-18T09:00:41.187Z"
   },
   {
    "duration": 58,
    "start_time": "2024-02-18T10:04:08.705Z"
   },
   {
    "duration": 1648,
    "start_time": "2024-02-18T10:04:08.765Z"
   },
   {
    "duration": 50,
    "start_time": "2024-02-18T10:04:10.414Z"
   },
   {
    "duration": 28,
    "start_time": "2024-02-18T10:04:10.466Z"
   },
   {
    "duration": 7,
    "start_time": "2024-02-18T10:04:10.496Z"
   },
   {
    "duration": 695,
    "start_time": "2024-02-18T10:07:29.913Z"
   },
   {
    "duration": 6,
    "start_time": "2024-02-18T10:10:22.817Z"
   },
   {
    "duration": 160,
    "start_time": "2024-02-18T10:13:59.355Z"
   },
   {
    "duration": 28,
    "start_time": "2024-02-18T10:14:07.157Z"
   },
   {
    "duration": 20,
    "start_time": "2024-02-18T10:14:12.257Z"
   },
   {
    "duration": 228,
    "start_time": "2024-02-18T10:14:41.306Z"
   },
   {
    "duration": 35,
    "start_time": "2024-02-18T10:14:51.860Z"
   },
   {
    "duration": 26,
    "start_time": "2024-02-18T10:15:10.968Z"
   },
   {
    "duration": 1629,
    "start_time": "2024-02-18T10:17:16.154Z"
   },
   {
    "duration": 279,
    "start_time": "2024-02-18T10:17:26.630Z"
   },
   {
    "duration": 19,
    "start_time": "2024-02-18T10:18:07.399Z"
   },
   {
    "duration": 294,
    "start_time": "2024-02-18T10:19:05.974Z"
   },
   {
    "duration": 368,
    "start_time": "2024-02-18T10:19:38.972Z"
   },
   {
    "duration": 191,
    "start_time": "2024-02-18T10:26:49.463Z"
   },
   {
    "duration": 13,
    "start_time": "2024-02-18T10:27:49.389Z"
   },
   {
    "duration": 11,
    "start_time": "2024-02-18T10:28:02.870Z"
   },
   {
    "duration": 7,
    "start_time": "2024-02-18T10:29:58.679Z"
   },
   {
    "duration": 633,
    "start_time": "2024-02-18T10:30:03.264Z"
   },
   {
    "duration": 714,
    "start_time": "2024-02-18T10:31:34.373Z"
   },
   {
    "duration": 284,
    "start_time": "2024-02-18T10:34:46.071Z"
   },
   {
    "duration": 384,
    "start_time": "2024-02-18T10:39:08.123Z"
   },
   {
    "duration": 1985,
    "start_time": "2024-02-18T10:45:05.989Z"
   },
   {
    "duration": 287,
    "start_time": "2024-02-18T11:46:43.489Z"
   },
   {
    "duration": 302,
    "start_time": "2024-02-18T11:48:19.164Z"
   },
   {
    "duration": 281,
    "start_time": "2024-02-18T11:48:48.200Z"
   },
   {
    "duration": 11,
    "start_time": "2024-02-18T11:49:16.798Z"
   },
   {
    "duration": 11,
    "start_time": "2024-02-18T11:49:28.872Z"
   },
   {
    "duration": 11,
    "start_time": "2024-02-18T11:49:53.952Z"
   },
   {
    "duration": 10,
    "start_time": "2024-02-18T11:51:54.479Z"
   },
   {
    "duration": 62,
    "start_time": "2024-02-18T11:52:01.185Z"
   },
   {
    "duration": 1739,
    "start_time": "2024-02-18T11:52:01.250Z"
   },
   {
    "duration": 51,
    "start_time": "2024-02-18T11:52:02.991Z"
   },
   {
    "duration": 26,
    "start_time": "2024-02-18T11:52:03.044Z"
   },
   {
    "duration": 6,
    "start_time": "2024-02-18T11:52:03.072Z"
   },
   {
    "duration": 27,
    "start_time": "2024-02-18T11:52:03.079Z"
   },
   {
    "duration": 374,
    "start_time": "2024-02-18T11:52:03.107Z"
   },
   {
    "duration": 1790,
    "start_time": "2024-02-18T11:52:03.483Z"
   },
   {
    "duration": 237,
    "start_time": "2024-02-18T11:52:05.275Z"
   },
   {
    "duration": 14,
    "start_time": "2024-02-18T11:55:18.911Z"
   },
   {
    "duration": 24,
    "start_time": "2024-02-18T11:56:10.577Z"
   },
   {
    "duration": 60,
    "start_time": "2024-02-18T11:56:25.378Z"
   },
   {
    "duration": 1757,
    "start_time": "2024-02-18T11:56:25.439Z"
   },
   {
    "duration": 51,
    "start_time": "2024-02-18T11:56:27.197Z"
   },
   {
    "duration": 27,
    "start_time": "2024-02-18T11:56:27.250Z"
   },
   {
    "duration": 6,
    "start_time": "2024-02-18T11:56:27.279Z"
   },
   {
    "duration": 62,
    "start_time": "2024-02-18T11:56:27.286Z"
   },
   {
    "duration": 327,
    "start_time": "2024-02-18T11:56:27.350Z"
   },
   {
    "duration": 1999,
    "start_time": "2024-02-18T11:56:27.679Z"
   },
   {
    "duration": 329,
    "start_time": "2024-02-18T11:56:29.680Z"
   },
   {
    "duration": 6,
    "start_time": "2024-02-18T11:57:45.277Z"
   },
   {
    "duration": 130,
    "start_time": "2024-02-18T11:58:02.801Z"
   },
   {
    "duration": 124,
    "start_time": "2024-02-18T11:58:58.361Z"
   },
   {
    "duration": 70,
    "start_time": "2024-02-18T11:59:28.669Z"
   },
   {
    "duration": 1684,
    "start_time": "2024-02-18T11:59:28.741Z"
   },
   {
    "duration": 51,
    "start_time": "2024-02-18T11:59:30.427Z"
   },
   {
    "duration": 28,
    "start_time": "2024-02-18T11:59:30.481Z"
   },
   {
    "duration": 11,
    "start_time": "2024-02-18T11:59:30.512Z"
   },
   {
    "duration": 101,
    "start_time": "2024-02-18T11:59:30.525Z"
   },
   {
    "duration": 174,
    "start_time": "2024-02-18T11:59:30.628Z"
   },
   {
    "duration": 1574,
    "start_time": "2024-02-18T11:59:30.804Z"
   },
   {
    "duration": 329,
    "start_time": "2024-02-18T11:59:32.381Z"
   },
   {
    "duration": 50,
    "start_time": "2024-02-18T12:00:16.529Z"
   },
   {
    "duration": 6,
    "start_time": "2024-02-18T12:00:19.273Z"
   },
   {
    "duration": 52,
    "start_time": "2024-02-18T12:00:21.904Z"
   },
   {
    "duration": 25,
    "start_time": "2024-02-18T12:00:24.385Z"
   },
   {
    "duration": 7,
    "start_time": "2024-02-18T12:00:31.460Z"
   },
   {
    "duration": 27,
    "start_time": "2024-02-18T12:00:34.105Z"
   },
   {
    "duration": 131,
    "start_time": "2024-02-18T12:00:47.087Z"
   },
   {
    "duration": 333,
    "start_time": "2024-02-18T12:01:08.560Z"
   },
   {
    "duration": 281,
    "start_time": "2024-02-18T12:01:18.558Z"
   },
   {
    "duration": 1740,
    "start_time": "2024-02-18T12:01:23.943Z"
   },
   {
    "duration": 14,
    "start_time": "2024-02-18T12:01:29.613Z"
   },
   {
    "duration": 67,
    "start_time": "2024-02-18T12:03:06.106Z"
   },
   {
    "duration": 1751,
    "start_time": "2024-02-18T12:03:06.175Z"
   },
   {
    "duration": 52,
    "start_time": "2024-02-18T12:03:07.927Z"
   },
   {
    "duration": 30,
    "start_time": "2024-02-18T12:03:07.980Z"
   },
   {
    "duration": 7,
    "start_time": "2024-02-18T12:03:08.012Z"
   },
   {
    "duration": 55,
    "start_time": "2024-02-18T12:03:08.021Z"
   },
   {
    "duration": 748,
    "start_time": "2024-02-18T12:03:08.077Z"
   },
   {
    "duration": 289,
    "start_time": "2024-02-18T12:03:08.827Z"
   },
   {
    "duration": 1956,
    "start_time": "2024-02-18T12:03:09.118Z"
   },
   {
    "duration": 146,
    "start_time": "2024-02-18T12:03:38.161Z"
   },
   {
    "duration": 63,
    "start_time": "2024-02-18T12:03:44.891Z"
   },
   {
    "duration": 1778,
    "start_time": "2024-02-18T12:03:44.956Z"
   },
   {
    "duration": 51,
    "start_time": "2024-02-18T12:03:46.736Z"
   },
   {
    "duration": 26,
    "start_time": "2024-02-18T12:03:46.789Z"
   },
   {
    "duration": 6,
    "start_time": "2024-02-18T12:03:46.817Z"
   },
   {
    "duration": 49,
    "start_time": "2024-02-18T12:03:46.825Z"
   },
   {
    "duration": 702,
    "start_time": "2024-02-18T12:03:46.875Z"
   },
   {
    "duration": 301,
    "start_time": "2024-02-18T12:03:47.579Z"
   },
   {
    "duration": 1896,
    "start_time": "2024-02-18T12:03:47.881Z"
   },
   {
    "duration": 671,
    "start_time": "2024-02-18T12:13:26.288Z"
   },
   {
    "duration": 822,
    "start_time": "2024-02-18T12:13:58.902Z"
   },
   {
    "duration": 658,
    "start_time": "2024-02-18T12:14:16.686Z"
   },
   {
    "duration": 617,
    "start_time": "2024-02-18T12:14:34.317Z"
   },
   {
    "duration": 718,
    "start_time": "2024-02-18T12:15:24.717Z"
   },
   {
    "duration": 548,
    "start_time": "2024-02-18T12:16:43.353Z"
   },
   {
    "duration": 582,
    "start_time": "2024-02-18T12:16:57.516Z"
   },
   {
    "duration": 558,
    "start_time": "2024-02-18T12:17:01.437Z"
   },
   {
    "duration": 706,
    "start_time": "2024-02-18T12:17:43.853Z"
   },
   {
    "duration": 601,
    "start_time": "2024-02-18T12:18:46.856Z"
   },
   {
    "duration": 587,
    "start_time": "2024-02-18T12:19:24.164Z"
   },
   {
    "duration": 603,
    "start_time": "2024-02-18T12:19:54.944Z"
   },
   {
    "duration": 591,
    "start_time": "2024-02-18T12:20:07.762Z"
   },
   {
    "duration": 675,
    "start_time": "2024-02-18T12:20:56.769Z"
   },
   {
    "duration": 569,
    "start_time": "2024-02-18T12:21:06.646Z"
   },
   {
    "duration": 147,
    "start_time": "2024-02-18T12:28:41.295Z"
   },
   {
    "duration": 58,
    "start_time": "2024-02-18T12:28:49.964Z"
   },
   {
    "duration": 1631,
    "start_time": "2024-02-18T12:28:50.024Z"
   },
   {
    "duration": 51,
    "start_time": "2024-02-18T12:28:51.656Z"
   },
   {
    "duration": 27,
    "start_time": "2024-02-18T12:28:51.710Z"
   },
   {
    "duration": 7,
    "start_time": "2024-02-18T12:28:51.738Z"
   },
   {
    "duration": 39,
    "start_time": "2024-02-18T12:28:51.746Z"
   },
   {
    "duration": 632,
    "start_time": "2024-02-18T12:28:51.789Z"
   },
   {
    "duration": 287,
    "start_time": "2024-02-18T12:28:52.423Z"
   },
   {
    "duration": 2071,
    "start_time": "2024-02-18T12:28:52.712Z"
   },
   {
    "duration": 5,
    "start_time": "2024-02-18T12:33:33.232Z"
   },
   {
    "duration": 206,
    "start_time": "2024-02-18T12:35:11.008Z"
   },
   {
    "duration": 248,
    "start_time": "2024-02-18T12:35:35.662Z"
   },
   {
    "duration": 211,
    "start_time": "2024-02-18T12:35:46.908Z"
   },
   {
    "duration": 1343,
    "start_time": "2024-02-18T12:47:25.813Z"
   },
   {
    "duration": 1966,
    "start_time": "2024-02-18T12:47:46.956Z"
   },
   {
    "duration": 1346,
    "start_time": "2024-02-18T12:48:13.183Z"
   },
   {
    "duration": 148,
    "start_time": "2024-02-18T13:54:24.045Z"
   },
   {
    "duration": 280,
    "start_time": "2024-02-18T14:09:29.054Z"
   },
   {
    "duration": 289,
    "start_time": "2024-02-18T14:09:57.564Z"
   },
   {
    "duration": 325,
    "start_time": "2024-02-18T14:10:21.854Z"
   },
   {
    "duration": 403,
    "start_time": "2024-02-18T14:10:34.727Z"
   },
   {
    "duration": 641,
    "start_time": "2024-02-18T14:22:25.495Z"
   },
   {
    "duration": 628,
    "start_time": "2024-02-18T14:27:26.172Z"
   },
   {
    "duration": 939,
    "start_time": "2024-02-18T14:27:44.502Z"
   },
   {
    "duration": 565,
    "start_time": "2024-02-18T14:48:25.369Z"
   },
   {
    "duration": 24320,
    "start_time": "2024-02-18T14:52:54.722Z"
   },
   {
    "duration": 45,
    "start_time": "2024-02-18T19:40:34.490Z"
   },
   {
    "duration": 48,
    "start_time": "2024-02-18T19:40:41.842Z"
   },
   {
    "duration": 1846,
    "start_time": "2024-02-18T19:40:41.891Z"
   },
   {
    "duration": 113,
    "start_time": "2024-02-18T19:40:43.739Z"
   },
   {
    "duration": 27,
    "start_time": "2024-02-18T19:40:43.854Z"
   },
   {
    "duration": 6,
    "start_time": "2024-02-18T19:40:43.883Z"
   },
   {
    "duration": 33,
    "start_time": "2024-02-18T19:40:43.891Z"
   },
   {
    "duration": 641,
    "start_time": "2024-02-18T19:40:43.926Z"
   },
   {
    "duration": 282,
    "start_time": "2024-02-18T19:40:44.569Z"
   },
   {
    "duration": 1865,
    "start_time": "2024-02-18T19:40:44.853Z"
   },
   {
    "duration": 23779,
    "start_time": "2024-02-18T19:40:46.725Z"
   },
   {
    "duration": 134,
    "start_time": "2024-02-18T19:41:10.505Z"
   },
   {
    "duration": 13,
    "start_time": "2024-02-18T19:41:57.766Z"
   },
   {
    "duration": 12,
    "start_time": "2024-02-18T19:42:10.474Z"
   },
   {
    "duration": 17,
    "start_time": "2024-02-18T19:42:21.007Z"
   },
   {
    "duration": 57,
    "start_time": "2024-02-18T19:47:36.285Z"
   },
   {
    "duration": 1576,
    "start_time": "2024-02-18T19:47:36.345Z"
   },
   {
    "duration": 53,
    "start_time": "2024-02-18T19:47:37.923Z"
   },
   {
    "duration": 26,
    "start_time": "2024-02-18T19:47:37.978Z"
   },
   {
    "duration": 10,
    "start_time": "2024-02-18T19:47:38.007Z"
   },
   {
    "duration": 28,
    "start_time": "2024-02-18T19:47:38.019Z"
   },
   {
    "duration": 647,
    "start_time": "2024-02-18T19:47:38.048Z"
   },
   {
    "duration": 270,
    "start_time": "2024-02-18T19:47:38.696Z"
   },
   {
    "duration": 1958,
    "start_time": "2024-02-18T19:47:38.968Z"
   },
   {
    "duration": 9432,
    "start_time": "2024-02-18T19:47:40.928Z"
   },
   {
    "duration": 1311,
    "start_time": "2024-02-18T19:47:50.362Z"
   },
   {
    "duration": 14,
    "start_time": "2024-02-18T19:54:57.952Z"
   },
   {
    "duration": 17,
    "start_time": "2024-02-18T19:55:08.087Z"
   },
   {
    "duration": 16,
    "start_time": "2024-02-18T19:55:31.831Z"
   },
   {
    "duration": 15,
    "start_time": "2024-02-18T19:58:26.564Z"
   },
   {
    "duration": 16,
    "start_time": "2024-02-18T20:02:27.199Z"
   },
   {
    "duration": 19,
    "start_time": "2024-02-18T20:02:58.236Z"
   },
   {
    "duration": 48,
    "start_time": "2024-02-18T20:03:58.094Z"
   },
   {
    "duration": 1613,
    "start_time": "2024-02-18T20:03:58.144Z"
   },
   {
    "duration": 50,
    "start_time": "2024-02-18T20:03:59.758Z"
   },
   {
    "duration": 27,
    "start_time": "2024-02-18T20:03:59.810Z"
   },
   {
    "duration": 5,
    "start_time": "2024-02-18T20:03:59.840Z"
   },
   {
    "duration": 23,
    "start_time": "2024-02-18T20:03:59.847Z"
   },
   {
    "duration": 600,
    "start_time": "2024-02-18T20:03:59.871Z"
   },
   {
    "duration": 273,
    "start_time": "2024-02-18T20:04:00.473Z"
   },
   {
    "duration": 1970,
    "start_time": "2024-02-18T20:04:00.748Z"
   },
   {
    "duration": 1721,
    "start_time": "2024-02-18T20:04:02.724Z"
   },
   {
    "duration": 12,
    "start_time": "2024-02-18T20:04:04.447Z"
   },
   {
    "duration": 74,
    "start_time": "2024-02-18T20:04:04.461Z"
   },
   {
    "duration": 46,
    "start_time": "2024-02-18T20:04:59.560Z"
   },
   {
    "duration": 1612,
    "start_time": "2024-02-18T20:04:59.608Z"
   },
   {
    "duration": 49,
    "start_time": "2024-02-18T20:05:01.221Z"
   },
   {
    "duration": 28,
    "start_time": "2024-02-18T20:05:01.272Z"
   },
   {
    "duration": 29,
    "start_time": "2024-02-18T20:05:01.302Z"
   },
   {
    "duration": 58,
    "start_time": "2024-02-18T20:05:01.333Z"
   },
   {
    "duration": 638,
    "start_time": "2024-02-18T20:05:01.393Z"
   },
   {
    "duration": 274,
    "start_time": "2024-02-18T20:05:02.032Z"
   },
   {
    "duration": 1812,
    "start_time": "2024-02-18T20:05:02.307Z"
   },
   {
    "duration": 1839,
    "start_time": "2024-02-18T20:05:04.124Z"
   },
   {
    "duration": 10,
    "start_time": "2024-02-18T20:05:05.966Z"
   },
   {
    "duration": 75,
    "start_time": "2024-02-18T20:05:05.978Z"
   },
   {
    "duration": 45,
    "start_time": "2024-02-18T20:05:23.696Z"
   },
   {
    "duration": 1545,
    "start_time": "2024-02-18T20:05:23.743Z"
   },
   {
    "duration": 47,
    "start_time": "2024-02-18T20:05:25.289Z"
   },
   {
    "duration": 26,
    "start_time": "2024-02-18T20:05:25.338Z"
   },
   {
    "duration": 8,
    "start_time": "2024-02-18T20:05:25.366Z"
   },
   {
    "duration": 61,
    "start_time": "2024-02-18T20:05:25.376Z"
   },
   {
    "duration": 620,
    "start_time": "2024-02-18T20:05:25.439Z"
   },
   {
    "duration": 262,
    "start_time": "2024-02-18T20:05:26.060Z"
   },
   {
    "duration": 1794,
    "start_time": "2024-02-18T20:05:26.323Z"
   },
   {
    "duration": 1742,
    "start_time": "2024-02-18T20:05:28.119Z"
   },
   {
    "duration": 10,
    "start_time": "2024-02-18T20:05:29.862Z"
   },
   {
    "duration": 74,
    "start_time": "2024-02-18T20:05:29.873Z"
   },
   {
    "duration": 26,
    "start_time": "2024-02-18T20:06:25.814Z"
   },
   {
    "duration": 50,
    "start_time": "2024-02-18T20:07:34.476Z"
   },
   {
    "duration": 46,
    "start_time": "2024-02-18T20:08:29.627Z"
   },
   {
    "duration": 138,
    "start_time": "2024-02-18T20:17:53.440Z"
   },
   {
    "duration": 15,
    "start_time": "2024-02-18T20:19:29.696Z"
   },
   {
    "duration": 7,
    "start_time": "2024-02-18T20:20:55.126Z"
   },
   {
    "duration": 9,
    "start_time": "2024-02-18T20:20:58.242Z"
   },
   {
    "duration": 10,
    "start_time": "2024-02-18T20:22:08.362Z"
   },
   {
    "duration": 3163,
    "start_time": "2024-02-18T20:22:28.047Z"
   },
   {
    "duration": 6,
    "start_time": "2024-02-18T20:22:45.559Z"
   },
   {
    "duration": 6,
    "start_time": "2024-02-18T20:22:52.356Z"
   },
   {
    "duration": 9,
    "start_time": "2024-02-18T20:24:49.351Z"
   },
   {
    "duration": 10,
    "start_time": "2024-02-18T20:24:51.445Z"
   },
   {
    "duration": 46,
    "start_time": "2024-02-18T20:26:14.518Z"
   },
   {
    "duration": 49,
    "start_time": "2024-02-18T20:26:44.232Z"
   },
   {
    "duration": 1539,
    "start_time": "2024-02-18T20:26:44.283Z"
   },
   {
    "duration": 46,
    "start_time": "2024-02-18T20:26:45.824Z"
   },
   {
    "duration": 22,
    "start_time": "2024-02-18T20:26:45.872Z"
   },
   {
    "duration": 5,
    "start_time": "2024-02-18T20:26:45.896Z"
   },
   {
    "duration": 23,
    "start_time": "2024-02-18T20:26:45.903Z"
   },
   {
    "duration": 548,
    "start_time": "2024-02-18T20:26:45.927Z"
   },
   {
    "duration": 253,
    "start_time": "2024-02-18T20:26:46.476Z"
   },
   {
    "duration": 1795,
    "start_time": "2024-02-18T20:26:46.731Z"
   },
   {
    "duration": 1818,
    "start_time": "2024-02-18T20:26:48.528Z"
   },
   {
    "duration": 55,
    "start_time": "2024-02-18T20:26:50.348Z"
   },
   {
    "duration": 2,
    "start_time": "2024-02-18T20:26:50.404Z"
   },
   {
    "duration": 10,
    "start_time": "2024-02-18T20:26:50.418Z"
   },
   {
    "duration": 135,
    "start_time": "2024-02-18T20:26:50.430Z"
   },
   {
    "duration": 10,
    "start_time": "2024-02-18T20:28:36.895Z"
   },
   {
    "duration": 10,
    "start_time": "2024-02-18T20:28:39.662Z"
   },
   {
    "duration": 1611,
    "start_time": "2024-02-18T20:30:44.483Z"
   },
   {
    "duration": 84,
    "start_time": "2024-02-18T20:30:55.317Z"
   },
   {
    "duration": 1601,
    "start_time": "2024-02-18T20:30:55.403Z"
   },
   {
    "duration": 47,
    "start_time": "2024-02-18T20:30:57.006Z"
   },
   {
    "duration": 26,
    "start_time": "2024-02-18T20:30:57.055Z"
   },
   {
    "duration": 6,
    "start_time": "2024-02-18T20:30:57.082Z"
   },
   {
    "duration": 33,
    "start_time": "2024-02-18T20:30:57.090Z"
   },
   {
    "duration": 587,
    "start_time": "2024-02-18T20:30:57.124Z"
   },
   {
    "duration": 260,
    "start_time": "2024-02-18T20:30:57.712Z"
   },
   {
    "duration": 1754,
    "start_time": "2024-02-18T20:30:57.973Z"
   },
   {
    "duration": 1732,
    "start_time": "2024-02-18T20:30:59.820Z"
   },
   {
    "duration": 53,
    "start_time": "2024-02-18T20:31:01.554Z"
   },
   {
    "duration": 10,
    "start_time": "2024-02-18T20:31:01.608Z"
   },
   {
    "duration": 16,
    "start_time": "2024-02-18T20:31:01.620Z"
   },
   {
    "duration": 142,
    "start_time": "2024-02-18T20:31:01.637Z"
   },
   {
    "duration": 55,
    "start_time": "2024-02-18T20:32:33.260Z"
   },
   {
    "duration": 1592,
    "start_time": "2024-02-18T20:32:33.317Z"
   },
   {
    "duration": 47,
    "start_time": "2024-02-18T20:32:34.911Z"
   },
   {
    "duration": 27,
    "start_time": "2024-02-18T20:32:34.959Z"
   },
   {
    "duration": 7,
    "start_time": "2024-02-18T20:32:34.988Z"
   },
   {
    "duration": 31,
    "start_time": "2024-02-18T20:32:34.996Z"
   },
   {
    "duration": 562,
    "start_time": "2024-02-18T20:32:35.029Z"
   },
   {
    "duration": 274,
    "start_time": "2024-02-18T20:32:35.593Z"
   },
   {
    "duration": 1751,
    "start_time": "2024-02-18T20:32:35.868Z"
   },
   {
    "duration": 1737,
    "start_time": "2024-02-18T20:32:37.621Z"
   },
   {
    "duration": 160,
    "start_time": "2024-02-18T20:32:39.360Z"
   },
   {
    "duration": 0,
    "start_time": "2024-02-18T20:32:39.522Z"
   },
   {
    "duration": 0,
    "start_time": "2024-02-18T20:32:39.523Z"
   },
   {
    "duration": 0,
    "start_time": "2024-02-18T20:32:39.524Z"
   },
   {
    "duration": 46,
    "start_time": "2024-02-18T20:32:48.191Z"
   },
   {
    "duration": 65,
    "start_time": "2024-02-18T20:32:59.866Z"
   },
   {
    "duration": 71,
    "start_time": "2024-02-18T20:33:34.620Z"
   },
   {
    "duration": 69,
    "start_time": "2024-02-18T20:33:41.685Z"
   },
   {
    "duration": 12,
    "start_time": "2024-02-18T20:33:51.719Z"
   },
   {
    "duration": 10,
    "start_time": "2024-02-18T20:33:53.609Z"
   },
   {
    "duration": 3022,
    "start_time": "2024-02-18T20:34:20.045Z"
   },
   {
    "duration": 59,
    "start_time": "2024-02-18T20:35:48.805Z"
   },
   {
    "duration": 44,
    "start_time": "2024-02-18T20:36:02.186Z"
   },
   {
    "duration": 4,
    "start_time": "2024-02-18T20:36:08.273Z"
   },
   {
    "duration": 11,
    "start_time": "2024-02-18T20:36:30.463Z"
   },
   {
    "duration": 7,
    "start_time": "2024-02-18T20:42:58.022Z"
   },
   {
    "duration": 6951,
    "start_time": "2024-02-18T20:45:02.685Z"
   },
   {
    "duration": 1367,
    "start_time": "2024-02-18T20:46:10.521Z"
   },
   {
    "duration": 1312,
    "start_time": "2024-02-18T20:46:26.958Z"
   },
   {
    "duration": 1256,
    "start_time": "2024-02-18T20:46:33.354Z"
   },
   {
    "duration": 16,
    "start_time": "2024-02-18T20:47:03.073Z"
   },
   {
    "duration": 1126,
    "start_time": "2024-02-18T20:47:07.548Z"
   },
   {
    "duration": 1633,
    "start_time": "2024-02-18T20:47:58.762Z"
   },
   {
    "duration": 5095,
    "start_time": "2024-02-18T20:48:23.610Z"
   },
   {
    "duration": 1145,
    "start_time": "2024-02-18T20:48:28.707Z"
   },
   {
    "duration": 1633,
    "start_time": "2024-02-18T20:48:29.854Z"
   },
   {
    "duration": 46,
    "start_time": "2024-02-18T20:48:31.490Z"
   },
   {
    "duration": 1610,
    "start_time": "2024-02-18T20:48:31.538Z"
   },
   {
    "duration": 50,
    "start_time": "2024-02-18T20:48:33.150Z"
   },
   {
    "duration": 26,
    "start_time": "2024-02-18T20:48:33.201Z"
   },
   {
    "duration": 9,
    "start_time": "2024-02-18T20:48:33.228Z"
   },
   {
    "duration": 32,
    "start_time": "2024-02-18T20:48:33.239Z"
   },
   {
    "duration": 611,
    "start_time": "2024-02-18T20:48:33.272Z"
   },
   {
    "duration": 251,
    "start_time": "2024-02-18T20:48:33.885Z"
   },
   {
    "duration": 1683,
    "start_time": "2024-02-18T20:48:34.138Z"
   },
   {
    "duration": 1744,
    "start_time": "2024-02-18T20:48:35.827Z"
   },
   {
    "duration": 63,
    "start_time": "2024-02-18T20:48:37.574Z"
   },
   {
    "duration": 2,
    "start_time": "2024-02-18T20:48:37.639Z"
   },
   {
    "duration": 14,
    "start_time": "2024-02-18T20:48:37.643Z"
   },
   {
    "duration": 1619,
    "start_time": "2024-02-18T20:49:25.749Z"
   },
   {
    "duration": 4919,
    "start_time": "2024-02-18T20:49:48.953Z"
   },
   {
    "duration": 1076,
    "start_time": "2024-02-18T20:49:53.874Z"
   },
   {
    "duration": 1605,
    "start_time": "2024-02-18T20:49:54.952Z"
   },
   {
    "duration": 46,
    "start_time": "2024-02-18T20:49:56.560Z"
   },
   {
    "duration": 1581,
    "start_time": "2024-02-18T20:49:56.607Z"
   },
   {
    "duration": 47,
    "start_time": "2024-02-18T20:49:58.190Z"
   },
   {
    "duration": 26,
    "start_time": "2024-02-18T20:49:58.239Z"
   },
   {
    "duration": 7,
    "start_time": "2024-02-18T20:49:58.266Z"
   },
   {
    "duration": 50,
    "start_time": "2024-02-18T20:49:58.274Z"
   },
   {
    "duration": 597,
    "start_time": "2024-02-18T20:49:58.326Z"
   },
   {
    "duration": 253,
    "start_time": "2024-02-18T20:49:58.925Z"
   },
   {
    "duration": 1741,
    "start_time": "2024-02-18T20:49:59.179Z"
   },
   {
    "duration": 1821,
    "start_time": "2024-02-18T20:50:00.922Z"
   },
   {
    "duration": 55,
    "start_time": "2024-02-18T20:50:02.744Z"
   },
   {
    "duration": 2,
    "start_time": "2024-02-18T20:50:02.800Z"
   },
   {
    "duration": 24,
    "start_time": "2024-02-18T20:50:02.804Z"
   },
   {
    "duration": 1695,
    "start_time": "2024-02-18T20:50:57.885Z"
   },
   {
    "duration": 5057,
    "start_time": "2024-02-18T20:51:04.315Z"
   },
   {
    "duration": 1157,
    "start_time": "2024-02-18T20:51:09.375Z"
   },
   {
    "duration": 1642,
    "start_time": "2024-02-18T20:51:10.534Z"
   },
   {
    "duration": 44,
    "start_time": "2024-02-18T20:51:12.178Z"
   },
   {
    "duration": 1550,
    "start_time": "2024-02-18T20:51:12.225Z"
   },
   {
    "duration": 47,
    "start_time": "2024-02-18T20:51:13.776Z"
   },
   {
    "duration": 25,
    "start_time": "2024-02-18T20:51:13.824Z"
   },
   {
    "duration": 6,
    "start_time": "2024-02-18T20:51:13.850Z"
   },
   {
    "duration": 23,
    "start_time": "2024-02-18T20:51:13.858Z"
   },
   {
    "duration": 533,
    "start_time": "2024-02-18T20:51:13.918Z"
   },
   {
    "duration": 258,
    "start_time": "2024-02-18T20:51:14.453Z"
   },
   {
    "duration": 1714,
    "start_time": "2024-02-18T20:51:14.713Z"
   },
   {
    "duration": 1735,
    "start_time": "2024-02-18T20:51:16.519Z"
   },
   {
    "duration": 63,
    "start_time": "2024-02-18T20:51:18.256Z"
   },
   {
    "duration": 2,
    "start_time": "2024-02-18T20:51:18.320Z"
   },
   {
    "duration": 14,
    "start_time": "2024-02-18T20:51:18.323Z"
   },
   {
    "duration": 1676,
    "start_time": "2024-02-18T20:52:43.162Z"
   },
   {
    "duration": 5093,
    "start_time": "2024-02-18T20:52:50.803Z"
   },
   {
    "duration": 1159,
    "start_time": "2024-02-18T20:52:55.899Z"
   },
   {
    "duration": 1583,
    "start_time": "2024-02-18T20:52:57.060Z"
   },
   {
    "duration": 45,
    "start_time": "2024-02-18T20:52:58.645Z"
   },
   {
    "duration": 1590,
    "start_time": "2024-02-18T20:52:58.691Z"
   },
   {
    "duration": 47,
    "start_time": "2024-02-18T20:53:00.282Z"
   },
   {
    "duration": 24,
    "start_time": "2024-02-18T20:53:00.331Z"
   },
   {
    "duration": 23,
    "start_time": "2024-02-18T20:53:00.356Z"
   },
   {
    "duration": 56,
    "start_time": "2024-02-18T20:53:00.381Z"
   },
   {
    "duration": 588,
    "start_time": "2024-02-18T20:53:00.439Z"
   },
   {
    "duration": 268,
    "start_time": "2024-02-18T20:53:01.029Z"
   },
   {
    "duration": 1819,
    "start_time": "2024-02-18T20:53:01.299Z"
   },
   {
    "duration": 1722,
    "start_time": "2024-02-18T20:53:03.126Z"
   },
   {
    "duration": 53,
    "start_time": "2024-02-18T20:53:04.849Z"
   },
   {
    "duration": 13,
    "start_time": "2024-02-18T20:53:04.904Z"
   },
   {
    "duration": 10,
    "start_time": "2024-02-18T20:53:04.919Z"
   },
   {
    "duration": 1723,
    "start_time": "2024-02-18T20:54:19.282Z"
   },
   {
    "duration": 5141,
    "start_time": "2024-02-18T20:54:25.557Z"
   },
   {
    "duration": 1155,
    "start_time": "2024-02-18T20:54:30.700Z"
   },
   {
    "duration": 1603,
    "start_time": "2024-02-18T20:54:31.859Z"
   },
   {
    "duration": 69,
    "start_time": "2024-02-18T20:54:33.465Z"
   },
   {
    "duration": 1541,
    "start_time": "2024-02-18T20:54:33.536Z"
   },
   {
    "duration": 45,
    "start_time": "2024-02-18T20:54:35.079Z"
   },
   {
    "duration": 24,
    "start_time": "2024-02-18T20:54:35.126Z"
   },
   {
    "duration": 6,
    "start_time": "2024-02-18T20:54:35.151Z"
   },
   {
    "duration": 24,
    "start_time": "2024-02-18T20:54:35.159Z"
   },
   {
    "duration": 545,
    "start_time": "2024-02-18T20:54:35.218Z"
   },
   {
    "duration": 258,
    "start_time": "2024-02-18T20:54:35.764Z"
   },
   {
    "duration": 1796,
    "start_time": "2024-02-18T20:54:36.023Z"
   },
   {
    "duration": 1866,
    "start_time": "2024-02-18T20:54:37.822Z"
   },
   {
    "duration": 64,
    "start_time": "2024-02-18T20:54:39.690Z"
   },
   {
    "duration": 2,
    "start_time": "2024-02-18T20:54:39.755Z"
   },
   {
    "duration": 16,
    "start_time": "2024-02-18T20:54:39.759Z"
   },
   {
    "duration": 129,
    "start_time": "2024-02-18T20:54:59.907Z"
   },
   {
    "duration": 1083,
    "start_time": "2024-02-18T20:55:03.677Z"
   },
   {
    "duration": 1135,
    "start_time": "2024-02-18T20:55:25.211Z"
   },
   {
    "duration": 42,
    "start_time": "2024-02-18T20:55:26.348Z"
   },
   {
    "duration": 1595,
    "start_time": "2024-02-18T20:55:26.392Z"
   },
   {
    "duration": 47,
    "start_time": "2024-02-18T20:55:27.988Z"
   },
   {
    "duration": 27,
    "start_time": "2024-02-18T20:55:28.038Z"
   },
   {
    "duration": 7,
    "start_time": "2024-02-18T20:55:28.066Z"
   },
   {
    "duration": 52,
    "start_time": "2024-02-18T20:55:28.075Z"
   },
   {
    "duration": 622,
    "start_time": "2024-02-18T20:55:28.129Z"
   },
   {
    "duration": 265,
    "start_time": "2024-02-18T20:55:28.753Z"
   },
   {
    "duration": 1799,
    "start_time": "2024-02-18T20:55:29.019Z"
   },
   {
    "duration": 1942,
    "start_time": "2024-02-18T20:55:30.820Z"
   },
   {
    "duration": 64,
    "start_time": "2024-02-18T20:55:32.765Z"
   },
   {
    "duration": 2,
    "start_time": "2024-02-18T20:55:32.831Z"
   },
   {
    "duration": 31,
    "start_time": "2024-02-18T20:55:32.836Z"
   },
   {
    "duration": 5,
    "start_time": "2024-02-18T20:57:33.172Z"
   },
   {
    "duration": 198,
    "start_time": "2024-02-18T20:58:14.389Z"
   },
   {
    "duration": 8,
    "start_time": "2024-02-18T20:59:01.292Z"
   },
   {
    "duration": 119,
    "start_time": "2024-02-18T20:59:33.579Z"
   },
   {
    "duration": 3880,
    "start_time": "2024-02-18T20:59:55.841Z"
   },
   {
    "duration": 11,
    "start_time": "2024-02-18T21:01:29.252Z"
   },
   {
    "duration": 12,
    "start_time": "2024-02-18T21:03:38.891Z"
   },
   {
    "duration": 9365,
    "start_time": "2024-02-18T21:04:07.330Z"
   },
   {
    "duration": 5,
    "start_time": "2024-02-18T21:16:37.740Z"
   },
   {
    "duration": 90,
    "start_time": "2024-02-18T21:17:02.173Z"
   },
   {
    "duration": 86,
    "start_time": "2024-02-18T21:17:08.229Z"
   },
   {
    "duration": 14,
    "start_time": "2024-02-18T21:17:27.228Z"
   },
   {
    "duration": 6,
    "start_time": "2024-02-18T21:17:57.344Z"
   },
   {
    "duration": 5,
    "start_time": "2024-02-18T21:19:05.633Z"
   },
   {
    "duration": 8,
    "start_time": "2024-02-18T21:19:07.658Z"
   },
   {
    "duration": 11,
    "start_time": "2024-02-18T21:19:10.408Z"
   },
   {
    "duration": 11,
    "start_time": "2024-02-18T21:19:12.225Z"
   },
   {
    "duration": 9427,
    "start_time": "2024-02-18T21:19:14.768Z"
   },
   {
    "duration": 5,
    "start_time": "2024-02-18T21:19:38.554Z"
   },
   {
    "duration": 14,
    "start_time": "2024-02-18T21:19:40.180Z"
   },
   {
    "duration": 6,
    "start_time": "2024-02-18T21:19:42.340Z"
   },
   {
    "duration": 5,
    "start_time": "2024-02-18T21:20:43.284Z"
   },
   {
    "duration": 8,
    "start_time": "2024-02-18T21:20:45.197Z"
   },
   {
    "duration": 11,
    "start_time": "2024-02-18T21:20:47.694Z"
   },
   {
    "duration": 11,
    "start_time": "2024-02-18T21:20:50.261Z"
   },
   {
    "duration": 9531,
    "start_time": "2024-02-18T21:20:53.096Z"
   },
   {
    "duration": 5,
    "start_time": "2024-02-18T21:21:08.063Z"
   },
   {
    "duration": 15,
    "start_time": "2024-02-18T21:21:10.219Z"
   },
   {
    "duration": 6,
    "start_time": "2024-02-18T21:21:12.852Z"
   },
   {
    "duration": 6,
    "start_time": "2024-02-18T21:22:47.058Z"
   },
   {
    "duration": 89,
    "start_time": "2024-02-18T21:22:48.451Z"
   },
   {
    "duration": 7,
    "start_time": "2024-02-18T21:23:10.323Z"
   },
   {
    "duration": 11,
    "start_time": "2024-02-18T21:23:13.920Z"
   },
   {
    "duration": 11,
    "start_time": "2024-02-18T21:23:15.702Z"
   },
   {
    "duration": 9485,
    "start_time": "2024-02-18T21:23:18.222Z"
   },
   {
    "duration": 5,
    "start_time": "2024-02-18T21:24:25.176Z"
   },
   {
    "duration": 8,
    "start_time": "2024-02-18T21:24:27.075Z"
   },
   {
    "duration": 11,
    "start_time": "2024-02-18T21:24:29.390Z"
   },
   {
    "duration": 10,
    "start_time": "2024-02-18T21:24:31.439Z"
   },
   {
    "duration": 7241,
    "start_time": "2024-02-18T21:24:33.981Z"
   },
   {
    "duration": 5,
    "start_time": "2024-02-18T21:24:46.199Z"
   },
   {
    "duration": 8,
    "start_time": "2024-02-18T21:24:48.409Z"
   },
   {
    "duration": 6,
    "start_time": "2024-02-18T21:24:50.250Z"
   },
   {
    "duration": 5,
    "start_time": "2024-02-18T21:25:54.733Z"
   },
   {
    "duration": 7,
    "start_time": "2024-02-18T21:25:57.839Z"
   },
   {
    "duration": 12,
    "start_time": "2024-02-18T21:26:00.157Z"
   },
   {
    "duration": 13,
    "start_time": "2024-02-18T21:26:01.977Z"
   },
   {
    "duration": 8298,
    "start_time": "2024-02-18T21:26:04.521Z"
   },
   {
    "duration": 4,
    "start_time": "2024-02-18T21:26:20.593Z"
   },
   {
    "duration": 87,
    "start_time": "2024-02-18T21:26:23.130Z"
   },
   {
    "duration": 6,
    "start_time": "2024-02-18T21:26:24.792Z"
   },
   {
    "duration": 6,
    "start_time": "2024-02-18T21:27:10.290Z"
   },
   {
    "duration": 8,
    "start_time": "2024-02-18T21:27:12.183Z"
   },
   {
    "duration": 16,
    "start_time": "2024-02-18T21:27:14.428Z"
   },
   {
    "duration": 11,
    "start_time": "2024-02-18T21:27:16.505Z"
   },
   {
    "duration": 8895,
    "start_time": "2024-02-18T21:27:18.438Z"
   },
   {
    "duration": 6,
    "start_time": "2024-02-18T21:27:31.917Z"
   },
   {
    "duration": 6,
    "start_time": "2024-02-18T21:27:34.389Z"
   },
   {
    "duration": 7,
    "start_time": "2024-02-18T21:27:36.525Z"
   },
   {
    "duration": 6,
    "start_time": "2024-02-18T21:42:49.255Z"
   },
   {
    "duration": 60,
    "start_time": "2024-02-18T21:48:55.483Z"
   },
   {
    "duration": 1562,
    "start_time": "2024-02-18T21:48:55.545Z"
   },
   {
    "duration": 47,
    "start_time": "2024-02-18T21:48:57.108Z"
   },
   {
    "duration": 25,
    "start_time": "2024-02-18T21:48:57.156Z"
   },
   {
    "duration": 6,
    "start_time": "2024-02-18T21:48:57.183Z"
   },
   {
    "duration": 38,
    "start_time": "2024-02-18T21:48:57.192Z"
   },
   {
    "duration": 604,
    "start_time": "2024-02-18T21:48:57.231Z"
   },
   {
    "duration": 246,
    "start_time": "2024-02-18T21:48:57.837Z"
   },
   {
    "duration": 1836,
    "start_time": "2024-02-18T21:48:58.085Z"
   },
   {
    "duration": 1721,
    "start_time": "2024-02-18T21:48:59.923Z"
   },
   {
    "duration": 60,
    "start_time": "2024-02-18T21:49:01.645Z"
   },
   {
    "duration": 13,
    "start_time": "2024-02-18T21:49:01.720Z"
   },
   {
    "duration": 21,
    "start_time": "2024-02-18T21:49:01.735Z"
   },
   {
    "duration": 29,
    "start_time": "2024-02-18T21:49:01.757Z"
   },
   {
    "duration": 63,
    "start_time": "2024-02-18T21:49:01.787Z"
   },
   {
    "duration": 176,
    "start_time": "2024-02-18T21:49:01.852Z"
   },
   {
    "duration": 10166,
    "start_time": "2024-02-18T21:49:02.029Z"
   },
   {
    "duration": 7,
    "start_time": "2024-02-18T21:49:12.219Z"
   },
   {
    "duration": 19,
    "start_time": "2024-02-18T21:49:12.318Z"
   },
   {
    "duration": 85,
    "start_time": "2024-02-18T21:49:12.339Z"
   },
   {
    "duration": 93,
    "start_time": "2024-02-18T21:49:12.426Z"
   },
   {
    "duration": 149,
    "start_time": "2024-02-18T21:49:25.868Z"
   },
   {
    "duration": 5,
    "start_time": "2024-02-18T21:49:32.007Z"
   },
   {
    "duration": 8,
    "start_time": "2024-02-19T09:10:40.877Z"
   },
   {
    "duration": 39,
    "start_time": "2024-02-19T09:10:47.336Z"
   },
   {
    "duration": 102,
    "start_time": "2024-02-19T09:20:51.257Z"
   },
   {
    "duration": 1676,
    "start_time": "2024-02-19T09:20:51.361Z"
   },
   {
    "duration": 126,
    "start_time": "2024-02-19T09:20:53.039Z"
   },
   {
    "duration": 26,
    "start_time": "2024-02-19T09:20:53.166Z"
   },
   {
    "duration": 6,
    "start_time": "2024-02-19T09:20:53.194Z"
   },
   {
    "duration": 15,
    "start_time": "2024-02-19T09:20:53.201Z"
   },
   {
    "duration": 18,
    "start_time": "2024-02-19T09:20:53.218Z"
   },
   {
    "duration": 401,
    "start_time": "2024-02-19T09:20:53.237Z"
   },
   {
    "duration": 0,
    "start_time": "2024-02-19T09:20:53.639Z"
   },
   {
    "duration": 0,
    "start_time": "2024-02-19T09:20:53.640Z"
   },
   {
    "duration": 0,
    "start_time": "2024-02-19T09:20:53.642Z"
   },
   {
    "duration": 0,
    "start_time": "2024-02-19T09:20:53.642Z"
   },
   {
    "duration": 0,
    "start_time": "2024-02-19T09:20:53.643Z"
   },
   {
    "duration": 0,
    "start_time": "2024-02-19T09:20:53.644Z"
   },
   {
    "duration": 0,
    "start_time": "2024-02-19T09:20:53.645Z"
   },
   {
    "duration": 0,
    "start_time": "2024-02-19T09:20:53.645Z"
   },
   {
    "duration": 0,
    "start_time": "2024-02-19T09:20:53.646Z"
   },
   {
    "duration": 0,
    "start_time": "2024-02-19T09:20:53.647Z"
   },
   {
    "duration": 0,
    "start_time": "2024-02-19T09:20:53.648Z"
   },
   {
    "duration": 0,
    "start_time": "2024-02-19T09:20:53.649Z"
   },
   {
    "duration": 0,
    "start_time": "2024-02-19T09:20:53.650Z"
   },
   {
    "duration": 0,
    "start_time": "2024-02-19T09:20:53.650Z"
   },
   {
    "duration": 0,
    "start_time": "2024-02-19T09:20:53.651Z"
   },
   {
    "duration": 0,
    "start_time": "2024-02-19T09:20:53.653Z"
   },
   {
    "duration": 1,
    "start_time": "2024-02-19T09:20:53.653Z"
   },
   {
    "duration": 570,
    "start_time": "2024-02-19T09:21:19.346Z"
   },
   {
    "duration": 98,
    "start_time": "2024-02-19T09:22:01.532Z"
   },
   {
    "duration": 462,
    "start_time": "2024-02-19T09:22:10.534Z"
   },
   {
    "duration": 518,
    "start_time": "2024-02-19T09:22:27.573Z"
   },
   {
    "duration": 4,
    "start_time": "2024-02-19T09:22:58.964Z"
   },
   {
    "duration": 242,
    "start_time": "2024-02-19T09:24:54.446Z"
   },
   {
    "duration": 4,
    "start_time": "2024-02-19T09:27:30.624Z"
   },
   {
    "duration": 238,
    "start_time": "2024-02-19T09:27:35.596Z"
   },
   {
    "duration": 6,
    "start_time": "2024-02-19T09:27:45.458Z"
   },
   {
    "duration": 241,
    "start_time": "2024-02-19T09:28:02.454Z"
   },
   {
    "duration": 9,
    "start_time": "2024-02-19T09:29:02.218Z"
   },
   {
    "duration": 11,
    "start_time": "2024-02-19T09:29:08.557Z"
   },
   {
    "duration": 1136,
    "start_time": "2024-02-19T09:46:13.570Z"
   },
   {
    "duration": 4,
    "start_time": "2024-02-19T10:01:27.257Z"
   },
   {
    "duration": 18,
    "start_time": "2024-02-19T10:01:58.301Z"
   },
   {
    "duration": 5,
    "start_time": "2024-02-19T10:02:28.425Z"
   },
   {
    "duration": 3,
    "start_time": "2024-02-19T10:02:41.951Z"
   },
   {
    "duration": 8,
    "start_time": "2024-02-19T10:02:44.493Z"
   },
   {
    "duration": 10,
    "start_time": "2024-02-19T10:06:15.686Z"
   },
   {
    "duration": 11685,
    "start_time": "2024-02-19T10:06:35.745Z"
   },
   {
    "duration": 77,
    "start_time": "2024-02-19T10:12:14.979Z"
   },
   {
    "duration": 1475,
    "start_time": "2024-02-19T10:12:20.309Z"
   },
   {
    "duration": 10,
    "start_time": "2024-02-19T11:05:06.487Z"
   },
   {
    "duration": 15,
    "start_time": "2024-02-19T11:05:26.949Z"
   },
   {
    "duration": 6,
    "start_time": "2024-02-19T11:06:26.750Z"
   },
   {
    "duration": 467,
    "start_time": "2024-02-19T11:06:33.669Z"
   },
   {
    "duration": 14,
    "start_time": "2024-02-19T11:10:46.620Z"
   },
   {
    "duration": 9,
    "start_time": "2024-02-19T11:11:09.589Z"
   },
   {
    "duration": 10,
    "start_time": "2024-02-19T11:11:43.255Z"
   },
   {
    "duration": 9,
    "start_time": "2024-02-19T11:12:52.912Z"
   },
   {
    "duration": 10,
    "start_time": "2024-02-19T11:13:07.472Z"
   },
   {
    "duration": 10,
    "start_time": "2024-02-19T11:13:14.136Z"
   },
   {
    "duration": 15,
    "start_time": "2024-02-19T11:13:20.763Z"
   },
   {
    "duration": 92,
    "start_time": "2024-02-19T11:13:28.079Z"
   },
   {
    "duration": 20,
    "start_time": "2024-02-19T11:13:52.237Z"
   },
   {
    "duration": 11,
    "start_time": "2024-02-19T11:14:09.526Z"
   },
   {
    "duration": 1240,
    "start_time": "2024-02-19T11:14:16.219Z"
   },
   {
    "duration": 8,
    "start_time": "2024-02-19T11:15:53.534Z"
   },
   {
    "duration": 20,
    "start_time": "2024-02-19T11:16:26.322Z"
   },
   {
    "duration": 34,
    "start_time": "2024-02-19T11:16:33.800Z"
   },
   {
    "duration": 10,
    "start_time": "2024-02-19T11:16:55.872Z"
   },
   {
    "duration": 11,
    "start_time": "2024-02-19T11:16:59.273Z"
   },
   {
    "duration": 20,
    "start_time": "2024-02-19T11:17:10.212Z"
   },
   {
    "duration": 37,
    "start_time": "2024-02-19T11:17:12.335Z"
   },
   {
    "duration": 19,
    "start_time": "2024-02-19T11:22:22.885Z"
   },
   {
    "duration": 23,
    "start_time": "2024-02-19T11:22:29.580Z"
   },
   {
    "duration": 52,
    "start_time": "2024-02-19T11:22:52.699Z"
   },
   {
    "duration": 1443,
    "start_time": "2024-02-19T11:22:52.753Z"
   },
   {
    "duration": 48,
    "start_time": "2024-02-19T11:22:54.197Z"
   },
   {
    "duration": 23,
    "start_time": "2024-02-19T11:22:54.246Z"
   },
   {
    "duration": 7,
    "start_time": "2024-02-19T11:22:54.271Z"
   },
   {
    "duration": 16,
    "start_time": "2024-02-19T11:22:54.280Z"
   },
   {
    "duration": 21,
    "start_time": "2024-02-19T11:22:54.298Z"
   },
   {
    "duration": 544,
    "start_time": "2024-02-19T11:22:54.320Z"
   },
   {
    "duration": 4,
    "start_time": "2024-02-19T11:22:54.866Z"
   },
   {
    "duration": 247,
    "start_time": "2024-02-19T11:22:54.873Z"
   },
   {
    "duration": 1287,
    "start_time": "2024-02-19T11:22:55.121Z"
   },
   {
    "duration": 3,
    "start_time": "2024-02-19T11:22:56.410Z"
   },
   {
    "duration": 100,
    "start_time": "2024-02-19T11:22:56.502Z"
   },
   {
    "duration": 20607,
    "start_time": "2024-02-19T11:22:56.604Z"
   },
   {
    "duration": 4,
    "start_time": "2024-02-19T11:23:17.212Z"
   },
   {
    "duration": 42,
    "start_time": "2024-02-19T11:23:17.218Z"
   },
   {
    "duration": 24,
    "start_time": "2024-02-19T11:23:17.261Z"
   },
   {
    "duration": 11,
    "start_time": "2024-02-19T11:23:17.287Z"
   },
   {
    "duration": 50,
    "start_time": "2024-02-19T11:23:17.303Z"
   },
   {
    "duration": 9,
    "start_time": "2024-02-19T11:23:17.354Z"
   },
   {
    "duration": 12,
    "start_time": "2024-02-19T11:23:17.364Z"
   },
   {
    "duration": 28,
    "start_time": "2024-02-19T11:23:17.377Z"
   },
   {
    "duration": 25,
    "start_time": "2024-02-19T11:23:17.406Z"
   },
   {
    "duration": 9,
    "start_time": "2024-02-19T11:23:17.432Z"
   },
   {
    "duration": 31,
    "start_time": "2024-02-19T11:23:17.442Z"
   },
   {
    "duration": 252,
    "start_time": "2024-02-19T11:23:17.474Z"
   },
   {
    "duration": 80,
    "start_time": "2024-02-19T11:23:17.727Z"
   },
   {
    "duration": 85,
    "start_time": "2024-02-19T11:23:17.809Z"
   },
   {
    "duration": 86,
    "start_time": "2024-02-19T11:23:17.895Z"
   },
   {
    "duration": 11,
    "start_time": "2024-02-19T11:23:17.983Z"
   },
   {
    "duration": 10,
    "start_time": "2024-02-19T11:25:06.070Z"
   },
   {
    "duration": 4,
    "start_time": "2024-02-19T11:25:12.351Z"
   },
   {
    "duration": 8,
    "start_time": "2024-02-19T11:25:14.817Z"
   },
   {
    "duration": 11,
    "start_time": "2024-02-19T11:25:18.814Z"
   },
   {
    "duration": 6,
    "start_time": "2024-02-19T11:35:46.964Z"
   },
   {
    "duration": 52,
    "start_time": "2024-02-19T11:37:52.309Z"
   },
   {
    "duration": 1562,
    "start_time": "2024-02-19T11:37:52.362Z"
   },
   {
    "duration": 46,
    "start_time": "2024-02-19T11:37:53.926Z"
   },
   {
    "duration": 27,
    "start_time": "2024-02-19T11:37:53.974Z"
   },
   {
    "duration": 6,
    "start_time": "2024-02-19T11:37:54.002Z"
   },
   {
    "duration": 22,
    "start_time": "2024-02-19T11:37:54.010Z"
   },
   {
    "duration": 25,
    "start_time": "2024-02-19T11:37:54.033Z"
   },
   {
    "duration": 545,
    "start_time": "2024-02-19T11:37:54.059Z"
   },
   {
    "duration": 5,
    "start_time": "2024-02-19T11:37:54.605Z"
   },
   {
    "duration": 241,
    "start_time": "2024-02-19T11:37:54.612Z"
   },
   {
    "duration": 2250,
    "start_time": "2024-02-19T11:37:54.855Z"
   },
   {
    "duration": 95,
    "start_time": "2024-02-19T11:37:57.107Z"
   },
   {
    "duration": 15,
    "start_time": "2024-02-19T11:37:57.203Z"
   },
   {
    "duration": 14984,
    "start_time": "2024-02-19T11:37:57.219Z"
   },
   {
    "duration": 22,
    "start_time": "2024-02-19T11:38:12.204Z"
   },
   {
    "duration": 28,
    "start_time": "2024-02-19T11:38:12.228Z"
   },
   {
    "duration": 11,
    "start_time": "2024-02-19T11:38:12.258Z"
   },
   {
    "duration": 18,
    "start_time": "2024-02-19T11:38:12.271Z"
   },
   {
    "duration": 9,
    "start_time": "2024-02-19T11:38:12.302Z"
   },
   {
    "duration": 21,
    "start_time": "2024-02-19T11:38:12.312Z"
   },
   {
    "duration": 70,
    "start_time": "2024-02-19T11:38:12.334Z"
   },
   {
    "duration": 102,
    "start_time": "2024-02-19T11:38:12.405Z"
   },
   {
    "duration": 108844,
    "start_time": "2024-02-19T11:38:12.508Z"
   },
   {
    "duration": 50,
    "start_time": "2024-02-19T11:40:01.359Z"
   },
   {
    "duration": 113,
    "start_time": "2024-02-19T11:40:01.410Z"
   },
   {
    "duration": 180,
    "start_time": "2024-02-19T11:40:01.525Z"
   },
   {
    "duration": 64,
    "start_time": "2024-02-19T11:40:01.706Z"
   },
   {
    "duration": 47,
    "start_time": "2024-02-19T12:14:43.049Z"
   },
   {
    "duration": 1510,
    "start_time": "2024-02-19T12:14:43.098Z"
   },
   {
    "duration": 47,
    "start_time": "2024-02-19T12:14:44.609Z"
   },
   {
    "duration": 20,
    "start_time": "2024-02-19T12:14:44.658Z"
   },
   {
    "duration": 5,
    "start_time": "2024-02-19T12:14:44.679Z"
   },
   {
    "duration": 7,
    "start_time": "2024-02-19T12:14:44.685Z"
   },
   {
    "duration": 18,
    "start_time": "2024-02-19T12:14:44.693Z"
   },
   {
    "duration": 579,
    "start_time": "2024-02-19T12:14:44.713Z"
   },
   {
    "duration": 3,
    "start_time": "2024-02-19T12:14:45.294Z"
   },
   {
    "duration": 262,
    "start_time": "2024-02-19T12:14:45.299Z"
   },
   {
    "duration": 1146,
    "start_time": "2024-02-19T12:14:45.563Z"
   },
   {
    "duration": 4,
    "start_time": "2024-02-19T12:14:46.710Z"
   },
   {
    "duration": 95,
    "start_time": "2024-02-19T12:14:46.716Z"
   },
   {
    "duration": 11990,
    "start_time": "2024-02-19T12:14:46.813Z"
   },
   {
    "duration": 21,
    "start_time": "2024-02-19T12:14:58.804Z"
   },
   {
    "duration": 36,
    "start_time": "2024-02-19T12:14:58.827Z"
   },
   {
    "duration": 10,
    "start_time": "2024-02-19T12:14:58.865Z"
   },
   {
    "duration": 28,
    "start_time": "2024-02-19T12:14:58.877Z"
   },
   {
    "duration": 7,
    "start_time": "2024-02-19T12:14:58.906Z"
   },
   {
    "duration": 20,
    "start_time": "2024-02-19T12:14:58.914Z"
   },
   {
    "duration": 70,
    "start_time": "2024-02-19T12:14:58.935Z"
   },
   {
    "duration": 99,
    "start_time": "2024-02-19T12:14:59.007Z"
   },
   {
    "duration": 125596,
    "start_time": "2024-02-19T12:14:59.107Z"
   },
   {
    "duration": 6,
    "start_time": "2024-02-19T12:17:04.705Z"
   },
   {
    "duration": 101,
    "start_time": "2024-02-19T12:17:04.712Z"
   },
   {
    "duration": 9,
    "start_time": "2024-02-19T12:17:04.901Z"
   },
   {
    "duration": 93,
    "start_time": "2024-02-19T12:17:04.913Z"
   },
   {
    "duration": 31,
    "start_time": "2024-02-19T12:25:50.792Z"
   },
   {
    "duration": 23,
    "start_time": "2024-02-19T12:25:53.238Z"
   },
   {
    "duration": 125,
    "start_time": "2024-02-19T12:26:17.712Z"
   },
   {
    "duration": 10,
    "start_time": "2024-02-19T12:26:31.113Z"
   },
   {
    "duration": 21,
    "start_time": "2024-02-19T12:26:50.861Z"
   },
   {
    "duration": 55,
    "start_time": "2024-02-19T12:27:26.513Z"
   },
   {
    "duration": 1506,
    "start_time": "2024-02-19T12:27:26.613Z"
   },
   {
    "duration": 46,
    "start_time": "2024-02-19T12:27:28.121Z"
   },
   {
    "duration": 22,
    "start_time": "2024-02-19T12:27:28.168Z"
   },
   {
    "duration": 6,
    "start_time": "2024-02-19T12:27:28.192Z"
   },
   {
    "duration": 17,
    "start_time": "2024-02-19T12:27:28.200Z"
   },
   {
    "duration": 17,
    "start_time": "2024-02-19T12:27:28.218Z"
   },
   {
    "duration": 536,
    "start_time": "2024-02-19T12:27:28.236Z"
   },
   {
    "duration": 4,
    "start_time": "2024-02-19T12:27:28.773Z"
   },
   {
    "duration": 247,
    "start_time": "2024-02-19T12:27:28.779Z"
   },
   {
    "duration": 3381,
    "start_time": "2024-02-19T12:27:29.028Z"
   },
   {
    "duration": 4,
    "start_time": "2024-02-19T12:27:32.415Z"
   },
   {
    "duration": 14,
    "start_time": "2024-02-19T12:27:32.507Z"
   },
   {
    "duration": 5694,
    "start_time": "2024-02-19T12:27:32.523Z"
   },
   {
    "duration": 21,
    "start_time": "2024-02-19T12:27:38.218Z"
   },
   {
    "duration": 24,
    "start_time": "2024-02-19T12:27:38.240Z"
   },
   {
    "duration": 9,
    "start_time": "2024-02-19T12:27:38.265Z"
   },
   {
    "duration": 32,
    "start_time": "2024-02-19T12:27:38.275Z"
   },
   {
    "duration": 11,
    "start_time": "2024-02-19T12:27:38.308Z"
   },
   {
    "duration": 11,
    "start_time": "2024-02-19T12:27:38.320Z"
   },
   {
    "duration": 82,
    "start_time": "2024-02-19T12:27:38.332Z"
   },
   {
    "duration": 102,
    "start_time": "2024-02-19T12:27:38.416Z"
   },
   {
    "duration": 24818,
    "start_time": "2024-02-19T12:27:38.519Z"
   },
   {
    "duration": 84,
    "start_time": "2024-02-19T12:28:03.338Z"
   },
   {
    "duration": 94,
    "start_time": "2024-02-19T12:28:03.424Z"
   },
   {
    "duration": 85,
    "start_time": "2024-02-19T12:28:03.520Z"
   },
   {
    "duration": 13,
    "start_time": "2024-02-19T12:28:03.607Z"
   },
   {
    "duration": 5,
    "start_time": "2024-02-19T12:28:12.238Z"
   },
   {
    "duration": 6,
    "start_time": "2024-02-19T12:28:14.152Z"
   },
   {
    "duration": 13,
    "start_time": "2024-02-19T12:28:16.813Z"
   },
   {
    "duration": 3,
    "start_time": "2024-02-19T12:28:19.451Z"
   },
   {
    "duration": 10,
    "start_time": "2024-02-19T12:28:22.512Z"
   },
   {
    "duration": 44994,
    "start_time": "2024-02-19T12:28:25.017Z"
   },
   {
    "duration": 4,
    "start_time": "2024-02-19T12:29:30.065Z"
   },
   {
    "duration": 6,
    "start_time": "2024-02-19T12:29:32.612Z"
   },
   {
    "duration": 5,
    "start_time": "2024-02-19T12:29:34.736Z"
   },
   {
    "duration": 5,
    "start_time": "2024-02-19T12:29:38.813Z"
   },
   {
    "duration": 4,
    "start_time": "2024-02-19T12:46:48.581Z"
   },
   {
    "duration": 125,
    "start_time": "2024-02-19T12:48:16.160Z"
   },
   {
    "duration": 3,
    "start_time": "2024-02-19T12:51:50.596Z"
   },
   {
    "duration": 11,
    "start_time": "2024-02-19T12:51:56.812Z"
   },
   {
    "duration": 44,
    "start_time": "2024-02-19T13:05:13.875Z"
   },
   {
    "duration": 1457,
    "start_time": "2024-02-19T13:05:13.921Z"
   },
   {
    "duration": 46,
    "start_time": "2024-02-19T13:05:15.379Z"
   },
   {
    "duration": 23,
    "start_time": "2024-02-19T13:05:15.427Z"
   },
   {
    "duration": 6,
    "start_time": "2024-02-19T13:05:15.452Z"
   },
   {
    "duration": 20,
    "start_time": "2024-02-19T13:05:15.459Z"
   },
   {
    "duration": 28,
    "start_time": "2024-02-19T13:05:15.480Z"
   },
   {
    "duration": 473,
    "start_time": "2024-02-19T13:05:15.509Z"
   },
   {
    "duration": 4,
    "start_time": "2024-02-19T13:05:15.983Z"
   },
   {
    "duration": 243,
    "start_time": "2024-02-19T13:05:15.989Z"
   },
   {
    "duration": 1176,
    "start_time": "2024-02-19T13:05:16.234Z"
   },
   {
    "duration": 4,
    "start_time": "2024-02-19T13:05:17.503Z"
   },
   {
    "duration": 100,
    "start_time": "2024-02-19T13:05:17.508Z"
   },
   {
    "duration": 1286,
    "start_time": "2024-02-19T13:05:17.609Z"
   },
   {
    "duration": 20,
    "start_time": "2024-02-19T13:05:18.901Z"
   },
   {
    "duration": 22,
    "start_time": "2024-02-19T13:05:18.922Z"
   },
   {
    "duration": 13,
    "start_time": "2024-02-19T13:05:18.946Z"
   },
   {
    "duration": 7,
    "start_time": "2024-02-19T13:05:18.960Z"
   },
   {
    "duration": 12,
    "start_time": "2024-02-19T13:05:18.968Z"
   },
   {
    "duration": 30,
    "start_time": "2024-02-19T13:05:18.981Z"
   },
   {
    "duration": 90,
    "start_time": "2024-02-19T13:05:19.013Z"
   },
   {
    "duration": 98,
    "start_time": "2024-02-19T13:05:19.104Z"
   },
   {
    "duration": 7410,
    "start_time": "2024-02-19T13:05:19.204Z"
   },
   {
    "duration": 8,
    "start_time": "2024-02-19T13:05:26.703Z"
   },
   {
    "duration": 102,
    "start_time": "2024-02-19T13:05:26.712Z"
   },
   {
    "duration": 88,
    "start_time": "2024-02-19T13:05:26.816Z"
   },
   {
    "duration": 3,
    "start_time": "2024-02-19T13:05:26.905Z"
   },
   {
    "duration": 93,
    "start_time": "2024-02-19T13:05:26.911Z"
   },
   {
    "duration": 9,
    "start_time": "2024-02-19T13:05:27.005Z"
   },
   {
    "duration": 119,
    "start_time": "2024-02-19T13:06:39.829Z"
   },
   {
    "duration": 11,
    "start_time": "2024-02-19T13:07:06.015Z"
   },
   {
    "duration": 44,
    "start_time": "2024-02-19T13:23:19.161Z"
   },
   {
    "duration": 1507,
    "start_time": "2024-02-19T13:23:19.207Z"
   },
   {
    "duration": 48,
    "start_time": "2024-02-19T13:23:20.715Z"
   },
   {
    "duration": 22,
    "start_time": "2024-02-19T13:23:20.765Z"
   },
   {
    "duration": 6,
    "start_time": "2024-02-19T13:23:20.788Z"
   },
   {
    "duration": 8,
    "start_time": "2024-02-19T13:23:20.796Z"
   },
   {
    "duration": 45,
    "start_time": "2024-02-19T13:23:20.805Z"
   },
   {
    "duration": 525,
    "start_time": "2024-02-19T13:23:20.851Z"
   },
   {
    "duration": 4,
    "start_time": "2024-02-19T13:23:21.377Z"
   },
   {
    "duration": 240,
    "start_time": "2024-02-19T13:23:21.383Z"
   },
   {
    "duration": 1178,
    "start_time": "2024-02-19T13:23:21.624Z"
   },
   {
    "duration": 95,
    "start_time": "2024-02-19T13:23:22.807Z"
   },
   {
    "duration": 12,
    "start_time": "2024-02-19T13:23:22.903Z"
   },
   {
    "duration": 1375,
    "start_time": "2024-02-19T13:23:22.916Z"
   },
   {
    "duration": 35,
    "start_time": "2024-02-19T13:23:24.292Z"
   },
   {
    "duration": 25,
    "start_time": "2024-02-19T13:23:24.328Z"
   },
   {
    "duration": 9,
    "start_time": "2024-02-19T13:23:24.355Z"
   },
   {
    "duration": 6,
    "start_time": "2024-02-19T13:23:24.366Z"
   },
   {
    "duration": 32,
    "start_time": "2024-02-19T13:23:24.373Z"
   },
   {
    "duration": 17,
    "start_time": "2024-02-19T13:23:24.407Z"
   },
   {
    "duration": 5,
    "start_time": "2024-02-19T13:23:24.425Z"
   },
   {
    "duration": 101,
    "start_time": "2024-02-19T13:23:24.502Z"
   },
   {
    "duration": 7565,
    "start_time": "2024-02-19T13:23:24.604Z"
   },
   {
    "duration": 5,
    "start_time": "2024-02-19T13:23:32.202Z"
   },
   {
    "duration": 108,
    "start_time": "2024-02-19T13:23:32.208Z"
   },
   {
    "duration": 94,
    "start_time": "2024-02-19T13:23:32.317Z"
   },
   {
    "duration": 23,
    "start_time": "2024-02-19T13:23:32.502Z"
   }
  ],
  "kernelspec": {
   "display_name": "Python 3 (ipykernel)",
   "language": "python",
   "name": "python3"
  },
  "language_info": {
   "codemirror_mode": {
    "name": "ipython",
    "version": 3
   },
   "file_extension": ".py",
   "mimetype": "text/x-python",
   "name": "python",
   "nbconvert_exporter": "python",
   "pygments_lexer": "ipython3",
   "version": "3.11.7"
  },
  "toc": {
   "base_numbering": 1,
   "nav_menu": {},
   "number_sections": true,
   "sideBar": true,
   "skip_h1_title": true,
   "title_cell": "Содержание",
   "title_sidebar": "Contents",
   "toc_cell": true,
   "toc_position": {
    "height": "calc(100% - 180px)",
    "left": "10px",
    "top": "150px",
    "width": "165px"
   },
   "toc_section_display": true,
   "toc_window_display": true
  }
 },
 "nbformat": 4,
 "nbformat_minor": 4
}
